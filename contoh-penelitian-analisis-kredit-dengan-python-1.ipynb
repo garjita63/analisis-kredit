{
 "cells": [
  {
   "cell_type": "markdown",
   "metadata": {},
   "source": [
    "# <a id='0'>Daftar Isi</a>\n",
    "\n",
    "- <a href='#1'>Abstrak</a>  \n",
    "    - <a href='#11'>Latar Belakang</a>\n",
    "    - <a href='#12'>Rumusan Masalah</a>\n",
    "    - <a href='#13'>Dataset</a>\n",
    "    - <a href='#14'>Tujuan Penelitian</a>\n",
    "- <a href='#2'>Persiapan Data </a>  \n",
    "    - <a href='#21'>Memuat Packages</a>  \n",
    "    - <a href='#22'>Menetapkan Parameter</a> \n",
    "    - <a href='#22'>Input Data</a> \n",
    "- <a href='#4'>Pembersihan Data</a>  \n",
    "    - <a href='#41'>Review Data</a>  \n",
    "    - <a href='#42'>Data yang Hilang</a>\n",
    "    - <a href='#43'>Proporsi Sebaran Data</a>\n",
    "- <a href='#5'>Eksplorasi Data</a>\n",
    "    - <a href='#51'>Batasan Kredit</a>  \n",
    "    - <a href='#52'>Klasifikasi Batasan Kredit</a>\n",
    "    - <a href='#53'>Batas Kredit vs Jenis Kelamin</a>\n",
    "    - <a href='#54'>Check Korelasi</a>\n",
    "    - <a href='#55'>Jenis Kelamin, Pendidikan, Usia dan Pernikahan</a>\n",
    "    - <a href='#56'>Usia, Jenis Kelamin, dan Jumlah Kredit</a>\n",
    "    - <a href='#57'>Status Perkawinan, Pendidikan, dan Batasan Kredit</a>\n",
    "- <a href='#6'>Pemodelan Prediksi</a>  \n",
    "    - <a href='#61'>Tentukan Variabel Prediktor dan Respon</a> \n",
    "    - <a href='#62'>Split Data Training dan Data Validasi</a>\n",
    "    - <a href='#63'>Klasifikasi Random Forrest</a> \n",
    "    - <a href='#64'>Klasifikasi RandomForrest dengan OneHotEncoder</a> \n",
    "    - <a href='#65'>AdaBoostClassifier</a> \n",
    "    - <a href='#66'>CatBoostClassifier</a> \n",
    "    - <a href='#67'>XGBoost</a> \n",
    "    - <a href='#68'>LightGBM</a> \n",
    "- <a href='#7'>Kesimpulan dan Saran</a>\n",
    "- <a href='#8'>Daftar Pustaka</a>\n"
   ]
  },
  {
   "cell_type": "markdown",
   "metadata": {
    "_uuid": "59c14ee24fdc95ffb0163222bb5cfbed7b16678e"
   },
   "source": [
    "# <a id=\"1\">Abstrak</a>  \n",
    "\n",
    "Pada kesempatan ini, saya akan memberikan suatu pedoman buat Anda (Mahasiswa-i) yang sedang belajar meneliti. Khususnya matakuliah saya yaitu Metode Penelitian. Sebenarnya ada banyak sekali metode yang bisa kalian terapkan dalam hal penelitian khususnya Statistik/Matematika (Yang penting data ada dan valid). Melalui latihan yang kalian lakukan dalam metode penelitan ini diharapkan Anda mampu untuk menganalisis data, berpikir kritis, dan mampu menyelesaikan masalah yang ada di masyarakat untuk meningkatkan pengetahuan tentang aplikasi statistik khususnya dalam Bisnis maupun Industri. \n",
    "\n",
    "Output yang diharapkan dari \"Contoh Penelitian Sederhanan dengan Python ini adalah untuk mengembangkan ide-ide kreatif dalam mengolah data, mampu memberikan kesimpulan yang berarti (yang terkandung) didalam sekumpulan data. Diharapkan juga, mahasiswa-i dapat menerapkan konsep yang sama dengan data yang lainnya, boleh juga menganalisa data yang saya gunakan disini, tentunya dengan metode yang berbeda dan hasi prediksi yang lebih baik (Tergantung minat Anda). \n",
    " \n",
    "## <a id=\"11\"> Latar Belakang</a> \n",
    "\n",
    "<center><b> Transaksi Kredit di Bank (April September 2005)</b> </center>\n",
    "<br>\n",
    "\n",
    "Di era digital ini, dunia mengalami perkembangan pesat di bidang teknologi. Tidak hanya itu, di bidang ekonomi juga mengalami perkembangan yang mengikuti perkembangan teknologi juga. Itu disebut Teknologi Keuangan (Fintech). Fintech adalah istilah untuk inovasi dan penciptaan kemajuan layanan keuangan di era digital ini. FSB (Financial Stability Board) mengelompokkan fintech berdasarkan jenis inovasi menjadi empat kelompok:\n",
    "- Pembayaran, Kliring, dan Penyelesaian\n",
    "- E-Aggretator\n",
    "- Peer to Peer Lending (P2P)\n",
    "- Risiko dan Manajemen Investasi.\n",
    "\n",
    "Gagasan utama fintech adalah membuat layanan keuangan lebih baik bagi konsumen, bukan untuk mengeluarkan bank dari bisnis. Perbankan juga mengambil bagian dalam teknologi pemasaran berbasis pada layanan keuangan seperti berikut ini: Perbankan, Kredit dan Pinjaman, Penasihat Keuangan, dan Kenyamanan Konsumen. Dengan mengotomatiskan sebagian besar proses perbankan dan menambahkan kecepatan, transparansi, dan keamanan pada proses-proses tersebut, aplikasi Fintech juga membantu secara tidak langsung pengalaman yang memudahkan untuk pelanggan.\n",
    "\n",
    "Dari penjelasan di atas, diketahui bahwa salah satu bank di Taiwan (di Indonesia juga sudah banyak) telah menerapkan sistem fintech, salah satunya adalah dalam hal proses pembayaran kredit (kredit online). Beberapa orang telah menerapkan kredit di bank dengan melakukan pembayaran secara digital atau online. Bank telah mengumpulkan data dari pelanggan mereka yang telah melakukan kredit online. Data-data ini dikumpulkan untuk mendapatkan informasi yang membantu bank melihat status pembayaran kredit.\n",
    "\n",
    "Penelitian ini akan mengunakan beberapa metode klasifikas untuk melakukan prediksi, diantaranya; Klasifikasi Random Forrest, Klasifikasi RandomForrest dengan OneHotEncoder, AdaBoostClassifier, CatBoostClassifier, XGBoost, dan LightGBM. Berdasarkan latar belakang tersebut diatas, maka judul penelitian adalah \"Analisis Statistik pada Pembayaran Digital suatu Fintech di Taiwan dengan Menggunakan Metode Klasifikasi\".\n",
    "\n",
    "\n",
    "## <a id=\"12\">Rumusan Masalah </a> \n",
    "\n",
    "Adapun yang menjadi rumusan penelitian ini adalah \"Bagaimana prosedur yang dilakukan untuk Analisis Statistik dalam Pembayaran Digital dengan Menggunakan Metode Klasifikasi\". Di era golabal seperti sekarang ini pembayaran digital memiliki kepentingan besar bagi pebisnis maupun bagi konsumen. Pembayaran digital telah muncul sebagai alat penting untuk memajukan inklusi keuangan karena hal itu dapat mengurangi biaya penyediaan layanan keuangan dan meningkatkan keamanan dan kenyamanan saat melakukan transaksi pembayaran. Dampak yang mungkin terjadi akibat transaksi ini adalah penumpukan data secara terus menerus (big data), karena hal ini akan memungkinkan konvergensi pembayaran yang lebih besar. Dengan demikian, dibutuhkan kemampuan untuk mengolah data yang mempuni dan proses analitik berkembang untuk membuat keputusan yang efisien. \n",
    "\n",
    "## <a id=\"13\"> Dataset</a> \n",
    "\n",
    "Dataset yang digunakan dalam penelitian ini berisi informasi tentang pembayaran standar, faktor demografis, data kredit, riwayat pembayaran, dan laporan tagihan klien kartu kredit di Taiwan dari **April 2005** hingga **September 2005**. Ada 25 variabel:\n",
    "\n",
    "* **ID**: ID of each client\n",
    "* **LIMIT_BAL**: Amount of given credit in NT dollars (includes individual and family/supplementary credit\n",
    "* **SEX**: Gender (1=male, 2=female)\n",
    "* **EDUCATION**: (1=graduate school, 2=university, 3=high school, 4=others)\n",
    "* **MARRIAGE**: Marital status (1=married, 2=single, 3=others)\n",
    "* **AGE**: Age in years\n",
    "* **PAY_0**: Repayment status in September, 2005 (-2=early payment, -1= paid full on time, 0 = paid not fully, 1=payment delay for one month, 2=payment delay for two months, ... 8=payment delay for eight months, 9=payment delay for nine months and above)\n",
    "* **PAY_2**: Repayment status in August, 2005 (scale same as above)\n",
    "* **PAY_3**: Repayment status in July, 2005 (scale same as above)\n",
    "* **PAY_4**: Repayment status in June, 2005 (scale same as above)\n",
    "* **PAY_5**: Repayment status in May, 2005 (scale same as above)\n",
    "* **PAY_6**: Repayment status in April, 2005 (scale same as above)\n",
    "* **BILL_AMT1**: Amount of bill statement in September, 2005 (NT dollar)\n",
    "* **BILL_AMT2**: Amount of bill statement in August, 2005 (NT dollar)\n",
    "* **BILL_AMT3**: Amount of bill statement in July, 2005 (NT dollar)\n",
    "* **BILL_AMT4**: Amount of bill statement in June, 2005 (NT dollar)\n",
    "* **BILL_AMT5**: Amount of bill statement in May, 2005 (NT dollar)\n",
    "* **BILL_AMT6**: Amount of bill statement in April, 2005 (NT dollar)\n",
    "* **PAY_AMT1**: Amount of previous payment in September, 2005 (NT dollar)\n",
    "* **PAY_AMT2**: Amount of previous payment in August, 2005 (NT dollar)\n",
    "* **PAY_AMT3**: Amount of previous payment in July, 2005 (NT dollar)\n",
    "* **PAY_AMT4**: Amount of previous payment in June, 2005 (NT dollar)\n",
    "* **PAY_AMT5**: Amount of previous payment in May, 2005 (NT dollar)\n",
    "* **PAY_AMT6**: Amount of previous payment in April, 2005 (NT dollar)\n",
    "* **default.payment.next.month**: Default payment (1=yes, 0=no)\n",
    "\n",
    "“default.payment.next.month” adalah status kartu kredit yang tidak hanya memengaruhi posisi pelanggan di bank tetapi juga status kredit pelanggan secara umum. Standarnya adalah 1 jika pelanggan melewatkan pembayaran kartu kredit untuk setidaknya enam bulan sekali dan defaultnya adalah 0 jika pelanggan terus melakukan pembayaran kartu kredit setiap bulan. Tagihan akan muncul di awal bulan sementara status kartu kredit muncul di akhir bulan.\n",
    "\n",
    "## <a id=\"14\"> Tujuan Penelitian</a>\n",
    "\n",
    "Pada penelitian ini saya tertarik untuk mempelajari karakteristik pelanggan yang membuat kredit di bank pada bulan berikutnya. Data yang diberikan sekitar 24000 pelanggan dengan karakteristik berbeda, di mana 15945 di antaranya tidak pernah melewatkan pembayaran dan 8055 di antaranya setidaknya melewati pembayaran sekali. Sebagai Peneliti, saya untuk memprediksi 6000 pelanggan baru dengan jenis karakteristik tertentu yang diberikan pada Tabel [1] apakah mereka melewatkan pembayaran setidaknya satu kali selama periode enam bulan. Secara garis besar penelitian sederhana ini mencakup beberapa pembahasan sebagai berikut:\n",
    "* Memilih variabel yang menjadi acuan untuk melakukan analisis dan memberikan justifikasi.\n",
    "* Menentukan metodologi yang digunakan untuk analisis dan menjelaskan alasan mengapa memilih metode tersebut (disebutkan dan jelaskan teorinya secara singkat).\n",
    "* Memperlihatkan hasil eksplorasi data dan menjelaskan hasil analisis.\n",
    "* Diakhir pembahasan diberikan saran berdasarkan hasil penelitian."
   ]
  },
  {
   "cell_type": "markdown",
   "metadata": {
    "_uuid": "206cbdfdcc23a7b80878572a73aa4e16e38a568a"
   },
   "source": [
    "# <a id=\"2\">Persiapan Data</a>\n",
    "## <a id=\"21\">Memuat Packages</a>\n",
    "\n",
    "Sebelum memulai mengolah data dengan menggunakan Python biasanya diperlukan berbagai paket atau tool yang dapat memudahkan proses (Tentu paket yang anda perlukan susuai dengan data, model, dan metode yang digunakan dalam peneltian tersebut). Berikut saya perlihatkan beberapa paket yang saya gunakan dalam penelitian ini; "
   ]
  },
  {
   "cell_type": "code",
   "execution_count": 1,
   "metadata": {
    "_uuid": "39eb918049391b864c6d5f9dfd3ce5807584cfe9"
   },
   "outputs": [],
   "source": [
    "import pandas as pd \n",
    "import numpy as np\n",
    "import matplotlib\n",
    "import matplotlib.pyplot as plt\n",
    "import seaborn as sns\n",
    "%matplotlib inline \n",
    "\n",
    "import gc\n",
    "from datetime import datetime \n",
    "from sklearn.model_selection import train_test_split\n",
    "from sklearn.model_selection import KFold\n",
    "from sklearn.metrics import roc_auc_score\n",
    "from sklearn.ensemble import RandomForestClassifier\n",
    "from sklearn.ensemble import AdaBoostClassifier\n",
    "from catboost import CatBoostClassifier\n",
    "import lightgbm as lgb\n",
    "import xgboost as xgb\n",
    "\n",
    "pd.set_option('display.max_columns', 100)"
   ]
  },
  {
   "cell_type": "markdown",
   "metadata": {
    "_uuid": "751722a3aa9850285494af48cea32543d0ba5e06"
   },
   "source": [
    "## <a id=\"22\">Menetapkan Parameter</a>\n",
    "\n",
    "Pada tahap ini saya menetapkan beberapa parameter untuk analisis dan model."
   ]
  },
  {
   "cell_type": "code",
   "execution_count": 2,
   "metadata": {
    "_uuid": "5df85f736efd89e53e2d14ee6a8401a73a18ef6c"
   },
   "outputs": [
    {
     "name": "stdout",
     "output_type": "stream",
     "text": [
      "['533-947-1-SM-1.pdf', 'airports.csv', 'archive(1).zip', 'cars.csv', 'cars2.csv', 'colors.csv', 'customer-analytics', 'Data_Harian_Kasus_per_Provinsi_COVID-19_Indonesia.csv', 'demofile.txt', 'global_superstore', 'international-visitors-london-raw.csv', 'kasus.csv', 'myfile.txt', 'news.csv', 'Perkembangan_Kasus_COVID19_Indonesia - Copy.csv', 'rollingsales_bronx.xls', 'rollingsales_brooklyn.xls', 'rollingsales_manhattan.xls', 'rollingsales_queens.xls', 'rollingsales_statenisland.xls', 'sales_data.csv', 'sales_data.xlsx', 'shows.csv', 'shows.txt', 'SQL_School_Tutorial-master', 'telecom_users.csv', 'test.csv', 'titanic.csv', 'trends.csv', 'UCI_Credit_Card.csv']\n"
     ]
    }
   ],
   "source": [
    "RFC_METRIC = 'gini'         # metrik digunakan dengan Random Forrest Classifier\n",
    "NUM_ESTIMATORS = 100        # jumlah estimator yang digunakan untuk Random Forrest Classifier\n",
    "NO_JOBS = 4                 # jumlah pekerjaan paralel yang digunakan untuk Random Forrest Classifier\n",
    "\n",
    "#VALIDASI\n",
    "VALID_SIZE = 0.20           # validasi sederhana menggunakan train_test_split\n",
    "\n",
    "#VALIDASI SILANG\n",
    "NUMBER_KFOLDS = 5           # jumlah KFolds untuk validasi silang\n",
    "\n",
    "RANDOM_STATE = 2018\n",
    "\n",
    "MAX_ROUNDS = 1000           # iterasi lgb\n",
    "EARLY_STOP = 50             # lgb berhenti lebih awal\n",
    "OPT_ROUNDS = 1000           # untuk disesuaikan berdasarkan putaran validasi terbaik\n",
    "VERBOSE_EVAL = 50           # cetak hasil metrik\n",
    "\n",
    "IS_LOCAL = True\n",
    "\n",
    "import os\n",
    "\n",
    "if(IS_LOCAL):\n",
    "    PATH=\"E:\\DataScience\\dataset\"\n",
    "else:\n",
    "    PATH=\"../input\"\n",
    "print(os.listdir(PATH))"
   ]
  },
  {
   "cell_type": "markdown",
   "metadata": {
    "_uuid": "27818289f04036c3026d48f2eabcf6f38263ea4f"
   },
   "source": [
    "## <a id=\"23\">Input Data</a> \n",
    "\n",
    "Pada tahap ini, saya melakukan beberapa manipulasi data seperti; Iput data, Memisahkan data pelatihan dan pengujian, dan mengubah data kategori menjadi numerik. (Nb: Tentu semua bergantung kepada data atau model yang anda gunakan, karena tidak semuanya harus melakukan hal yang sama)"
   ]
  },
  {
   "cell_type": "code",
   "execution_count": 3,
   "metadata": {
    "_uuid": "28a631e66df7507ef44cb67201226dc799f08ad2"
   },
   "outputs": [
    {
     "data": {
      "text/html": [
       "<div>\n",
       "<style scoped>\n",
       "    .dataframe tbody tr th:only-of-type {\n",
       "        vertical-align: middle;\n",
       "    }\n",
       "\n",
       "    .dataframe tbody tr th {\n",
       "        vertical-align: top;\n",
       "    }\n",
       "\n",
       "    .dataframe thead th {\n",
       "        text-align: right;\n",
       "    }\n",
       "</style>\n",
       "<table border=\"1\" class=\"dataframe\">\n",
       "  <thead>\n",
       "    <tr style=\"text-align: right;\">\n",
       "      <th></th>\n",
       "      <th>ID</th>\n",
       "      <th>LIMIT_BAL</th>\n",
       "      <th>SEX</th>\n",
       "      <th>EDUCATION</th>\n",
       "      <th>MARRIAGE</th>\n",
       "      <th>AGE</th>\n",
       "      <th>PAY_0</th>\n",
       "      <th>PAY_2</th>\n",
       "      <th>PAY_3</th>\n",
       "      <th>PAY_4</th>\n",
       "      <th>PAY_5</th>\n",
       "      <th>PAY_6</th>\n",
       "      <th>BILL_AMT1</th>\n",
       "      <th>BILL_AMT2</th>\n",
       "      <th>BILL_AMT3</th>\n",
       "      <th>BILL_AMT4</th>\n",
       "      <th>BILL_AMT5</th>\n",
       "      <th>BILL_AMT6</th>\n",
       "      <th>PAY_AMT1</th>\n",
       "      <th>PAY_AMT2</th>\n",
       "      <th>PAY_AMT3</th>\n",
       "      <th>PAY_AMT4</th>\n",
       "      <th>PAY_AMT5</th>\n",
       "      <th>PAY_AMT6</th>\n",
       "      <th>default.payment.next.month</th>\n",
       "    </tr>\n",
       "  </thead>\n",
       "  <tbody>\n",
       "    <tr>\n",
       "      <th>0</th>\n",
       "      <td>1</td>\n",
       "      <td>20000.0</td>\n",
       "      <td>2</td>\n",
       "      <td>2</td>\n",
       "      <td>1</td>\n",
       "      <td>24</td>\n",
       "      <td>2</td>\n",
       "      <td>2</td>\n",
       "      <td>-1</td>\n",
       "      <td>-1</td>\n",
       "      <td>-2</td>\n",
       "      <td>-2</td>\n",
       "      <td>3913.0</td>\n",
       "      <td>3102.0</td>\n",
       "      <td>689.0</td>\n",
       "      <td>0.0</td>\n",
       "      <td>0.0</td>\n",
       "      <td>0.0</td>\n",
       "      <td>0.0</td>\n",
       "      <td>689.0</td>\n",
       "      <td>0.0</td>\n",
       "      <td>0.0</td>\n",
       "      <td>0.0</td>\n",
       "      <td>0.0</td>\n",
       "      <td>1</td>\n",
       "    </tr>\n",
       "    <tr>\n",
       "      <th>1</th>\n",
       "      <td>2</td>\n",
       "      <td>120000.0</td>\n",
       "      <td>2</td>\n",
       "      <td>2</td>\n",
       "      <td>2</td>\n",
       "      <td>26</td>\n",
       "      <td>-1</td>\n",
       "      <td>2</td>\n",
       "      <td>0</td>\n",
       "      <td>0</td>\n",
       "      <td>0</td>\n",
       "      <td>2</td>\n",
       "      <td>2682.0</td>\n",
       "      <td>1725.0</td>\n",
       "      <td>2682.0</td>\n",
       "      <td>3272.0</td>\n",
       "      <td>3455.0</td>\n",
       "      <td>3261.0</td>\n",
       "      <td>0.0</td>\n",
       "      <td>1000.0</td>\n",
       "      <td>1000.0</td>\n",
       "      <td>1000.0</td>\n",
       "      <td>0.0</td>\n",
       "      <td>2000.0</td>\n",
       "      <td>1</td>\n",
       "    </tr>\n",
       "    <tr>\n",
       "      <th>2</th>\n",
       "      <td>3</td>\n",
       "      <td>90000.0</td>\n",
       "      <td>2</td>\n",
       "      <td>2</td>\n",
       "      <td>2</td>\n",
       "      <td>34</td>\n",
       "      <td>0</td>\n",
       "      <td>0</td>\n",
       "      <td>0</td>\n",
       "      <td>0</td>\n",
       "      <td>0</td>\n",
       "      <td>0</td>\n",
       "      <td>29239.0</td>\n",
       "      <td>14027.0</td>\n",
       "      <td>13559.0</td>\n",
       "      <td>14331.0</td>\n",
       "      <td>14948.0</td>\n",
       "      <td>15549.0</td>\n",
       "      <td>1518.0</td>\n",
       "      <td>1500.0</td>\n",
       "      <td>1000.0</td>\n",
       "      <td>1000.0</td>\n",
       "      <td>1000.0</td>\n",
       "      <td>5000.0</td>\n",
       "      <td>0</td>\n",
       "    </tr>\n",
       "    <tr>\n",
       "      <th>3</th>\n",
       "      <td>4</td>\n",
       "      <td>50000.0</td>\n",
       "      <td>2</td>\n",
       "      <td>2</td>\n",
       "      <td>1</td>\n",
       "      <td>37</td>\n",
       "      <td>0</td>\n",
       "      <td>0</td>\n",
       "      <td>0</td>\n",
       "      <td>0</td>\n",
       "      <td>0</td>\n",
       "      <td>0</td>\n",
       "      <td>46990.0</td>\n",
       "      <td>48233.0</td>\n",
       "      <td>49291.0</td>\n",
       "      <td>28314.0</td>\n",
       "      <td>28959.0</td>\n",
       "      <td>29547.0</td>\n",
       "      <td>2000.0</td>\n",
       "      <td>2019.0</td>\n",
       "      <td>1200.0</td>\n",
       "      <td>1100.0</td>\n",
       "      <td>1069.0</td>\n",
       "      <td>1000.0</td>\n",
       "      <td>0</td>\n",
       "    </tr>\n",
       "    <tr>\n",
       "      <th>4</th>\n",
       "      <td>5</td>\n",
       "      <td>50000.0</td>\n",
       "      <td>1</td>\n",
       "      <td>2</td>\n",
       "      <td>1</td>\n",
       "      <td>57</td>\n",
       "      <td>-1</td>\n",
       "      <td>0</td>\n",
       "      <td>-1</td>\n",
       "      <td>0</td>\n",
       "      <td>0</td>\n",
       "      <td>0</td>\n",
       "      <td>8617.0</td>\n",
       "      <td>5670.0</td>\n",
       "      <td>35835.0</td>\n",
       "      <td>20940.0</td>\n",
       "      <td>19146.0</td>\n",
       "      <td>19131.0</td>\n",
       "      <td>2000.0</td>\n",
       "      <td>36681.0</td>\n",
       "      <td>10000.0</td>\n",
       "      <td>9000.0</td>\n",
       "      <td>689.0</td>\n",
       "      <td>679.0</td>\n",
       "      <td>0</td>\n",
       "    </tr>\n",
       "  </tbody>\n",
       "</table>\n",
       "</div>"
      ],
      "text/plain": [
       "   ID  LIMIT_BAL  SEX  EDUCATION  MARRIAGE  AGE  PAY_0  PAY_2  PAY_3  PAY_4  \\\n",
       "0   1    20000.0    2          2         1   24      2      2     -1     -1   \n",
       "1   2   120000.0    2          2         2   26     -1      2      0      0   \n",
       "2   3    90000.0    2          2         2   34      0      0      0      0   \n",
       "3   4    50000.0    2          2         1   37      0      0      0      0   \n",
       "4   5    50000.0    1          2         1   57     -1      0     -1      0   \n",
       "\n",
       "   PAY_5  PAY_6  BILL_AMT1  BILL_AMT2  BILL_AMT3  BILL_AMT4  BILL_AMT5  \\\n",
       "0     -2     -2     3913.0     3102.0      689.0        0.0        0.0   \n",
       "1      0      2     2682.0     1725.0     2682.0     3272.0     3455.0   \n",
       "2      0      0    29239.0    14027.0    13559.0    14331.0    14948.0   \n",
       "3      0      0    46990.0    48233.0    49291.0    28314.0    28959.0   \n",
       "4      0      0     8617.0     5670.0    35835.0    20940.0    19146.0   \n",
       "\n",
       "   BILL_AMT6  PAY_AMT1  PAY_AMT2  PAY_AMT3  PAY_AMT4  PAY_AMT5  PAY_AMT6  \\\n",
       "0        0.0       0.0     689.0       0.0       0.0       0.0       0.0   \n",
       "1     3261.0       0.0    1000.0    1000.0    1000.0       0.0    2000.0   \n",
       "2    15549.0    1518.0    1500.0    1000.0    1000.0    1000.0    5000.0   \n",
       "3    29547.0    2000.0    2019.0    1200.0    1100.0    1069.0    1000.0   \n",
       "4    19131.0    2000.0   36681.0   10000.0    9000.0     689.0     679.0   \n",
       "\n",
       "   default.payment.next.month  \n",
       "0                           1  \n",
       "1                           1  \n",
       "2                           0  \n",
       "3                           0  \n",
       "4                           0  "
      ]
     },
     "execution_count": 3,
     "metadata": {},
     "output_type": "execute_result"
    }
   ],
   "source": [
    "data_df = pd.read_csv(PATH+\"/UCI_Credit_Card.csv\")\n",
    "data_df.head()"
   ]
  },
  {
   "cell_type": "markdown",
   "metadata": {
    "_uuid": "eaed36728b51950cdee59ce028f6d16b3bfb0363"
   },
   "source": [
    "# <a id=\"4\">Pembersihan Data</a>"
   ]
  },
  {
   "cell_type": "code",
   "execution_count": 4,
   "metadata": {
    "_uuid": "56e5bea59ca29389f818b03cfdb33209636fc868"
   },
   "outputs": [
    {
     "name": "stdout",
     "output_type": "stream",
     "text": [
      "Default Credit Card Clients data -  rows: 30000  columns: 25\n"
     ]
    }
   ],
   "source": [
    "print(\"Default Credit Card Clients data -  rows:\",data_df.shape[0],\" columns:\", data_df.shape[1])"
   ]
  },
  {
   "cell_type": "markdown",
   "metadata": {
    "_uuid": "db00be74b6c6b7a0fab8c8fcfb681172ca436547"
   },
   "source": [
    "### <a id=\"41\">Review Data</a>\n",
    "\n",
    "Dimulai dengan melihat fitur data (3 baris pertama). (Nb: Pada bagian ini anda bisa menjelaskan bebarapa hal yang anda anggap penting untuk diceritakan)"
   ]
  },
  {
   "cell_type": "code",
   "execution_count": 5,
   "metadata": {
    "_uuid": "4ddde8e6a24eb6ca1044838064b61745535422ae"
   },
   "outputs": [
    {
     "data": {
      "text/html": [
       "<div>\n",
       "<style scoped>\n",
       "    .dataframe tbody tr th:only-of-type {\n",
       "        vertical-align: middle;\n",
       "    }\n",
       "\n",
       "    .dataframe tbody tr th {\n",
       "        vertical-align: top;\n",
       "    }\n",
       "\n",
       "    .dataframe thead th {\n",
       "        text-align: right;\n",
       "    }\n",
       "</style>\n",
       "<table border=\"1\" class=\"dataframe\">\n",
       "  <thead>\n",
       "    <tr style=\"text-align: right;\">\n",
       "      <th></th>\n",
       "      <th>ID</th>\n",
       "      <th>LIMIT_BAL</th>\n",
       "      <th>SEX</th>\n",
       "      <th>EDUCATION</th>\n",
       "      <th>MARRIAGE</th>\n",
       "      <th>AGE</th>\n",
       "      <th>PAY_0</th>\n",
       "      <th>PAY_2</th>\n",
       "      <th>PAY_3</th>\n",
       "      <th>PAY_4</th>\n",
       "      <th>PAY_5</th>\n",
       "      <th>PAY_6</th>\n",
       "      <th>BILL_AMT1</th>\n",
       "      <th>BILL_AMT2</th>\n",
       "      <th>BILL_AMT3</th>\n",
       "      <th>BILL_AMT4</th>\n",
       "      <th>BILL_AMT5</th>\n",
       "      <th>BILL_AMT6</th>\n",
       "      <th>PAY_AMT1</th>\n",
       "      <th>PAY_AMT2</th>\n",
       "      <th>PAY_AMT3</th>\n",
       "      <th>PAY_AMT4</th>\n",
       "      <th>PAY_AMT5</th>\n",
       "      <th>PAY_AMT6</th>\n",
       "      <th>default.payment.next.month</th>\n",
       "    </tr>\n",
       "  </thead>\n",
       "  <tbody>\n",
       "    <tr>\n",
       "      <th>0</th>\n",
       "      <td>1</td>\n",
       "      <td>20000.0</td>\n",
       "      <td>2</td>\n",
       "      <td>2</td>\n",
       "      <td>1</td>\n",
       "      <td>24</td>\n",
       "      <td>2</td>\n",
       "      <td>2</td>\n",
       "      <td>-1</td>\n",
       "      <td>-1</td>\n",
       "      <td>-2</td>\n",
       "      <td>-2</td>\n",
       "      <td>3913.0</td>\n",
       "      <td>3102.0</td>\n",
       "      <td>689.0</td>\n",
       "      <td>0.0</td>\n",
       "      <td>0.0</td>\n",
       "      <td>0.0</td>\n",
       "      <td>0.0</td>\n",
       "      <td>689.0</td>\n",
       "      <td>0.0</td>\n",
       "      <td>0.0</td>\n",
       "      <td>0.0</td>\n",
       "      <td>0.0</td>\n",
       "      <td>1</td>\n",
       "    </tr>\n",
       "    <tr>\n",
       "      <th>1</th>\n",
       "      <td>2</td>\n",
       "      <td>120000.0</td>\n",
       "      <td>2</td>\n",
       "      <td>2</td>\n",
       "      <td>2</td>\n",
       "      <td>26</td>\n",
       "      <td>-1</td>\n",
       "      <td>2</td>\n",
       "      <td>0</td>\n",
       "      <td>0</td>\n",
       "      <td>0</td>\n",
       "      <td>2</td>\n",
       "      <td>2682.0</td>\n",
       "      <td>1725.0</td>\n",
       "      <td>2682.0</td>\n",
       "      <td>3272.0</td>\n",
       "      <td>3455.0</td>\n",
       "      <td>3261.0</td>\n",
       "      <td>0.0</td>\n",
       "      <td>1000.0</td>\n",
       "      <td>1000.0</td>\n",
       "      <td>1000.0</td>\n",
       "      <td>0.0</td>\n",
       "      <td>2000.0</td>\n",
       "      <td>1</td>\n",
       "    </tr>\n",
       "    <tr>\n",
       "      <th>2</th>\n",
       "      <td>3</td>\n",
       "      <td>90000.0</td>\n",
       "      <td>2</td>\n",
       "      <td>2</td>\n",
       "      <td>2</td>\n",
       "      <td>34</td>\n",
       "      <td>0</td>\n",
       "      <td>0</td>\n",
       "      <td>0</td>\n",
       "      <td>0</td>\n",
       "      <td>0</td>\n",
       "      <td>0</td>\n",
       "      <td>29239.0</td>\n",
       "      <td>14027.0</td>\n",
       "      <td>13559.0</td>\n",
       "      <td>14331.0</td>\n",
       "      <td>14948.0</td>\n",
       "      <td>15549.0</td>\n",
       "      <td>1518.0</td>\n",
       "      <td>1500.0</td>\n",
       "      <td>1000.0</td>\n",
       "      <td>1000.0</td>\n",
       "      <td>1000.0</td>\n",
       "      <td>5000.0</td>\n",
       "      <td>0</td>\n",
       "    </tr>\n",
       "  </tbody>\n",
       "</table>\n",
       "</div>"
      ],
      "text/plain": [
       "   ID  LIMIT_BAL  SEX  EDUCATION  MARRIAGE  AGE  PAY_0  PAY_2  PAY_3  PAY_4  \\\n",
       "0   1    20000.0    2          2         1   24      2      2     -1     -1   \n",
       "1   2   120000.0    2          2         2   26     -1      2      0      0   \n",
       "2   3    90000.0    2          2         2   34      0      0      0      0   \n",
       "\n",
       "   PAY_5  PAY_6  BILL_AMT1  BILL_AMT2  BILL_AMT3  BILL_AMT4  BILL_AMT5  \\\n",
       "0     -2     -2     3913.0     3102.0      689.0        0.0        0.0   \n",
       "1      0      2     2682.0     1725.0     2682.0     3272.0     3455.0   \n",
       "2      0      0    29239.0    14027.0    13559.0    14331.0    14948.0   \n",
       "\n",
       "   BILL_AMT6  PAY_AMT1  PAY_AMT2  PAY_AMT3  PAY_AMT4  PAY_AMT5  PAY_AMT6  \\\n",
       "0        0.0       0.0     689.0       0.0       0.0       0.0       0.0   \n",
       "1     3261.0       0.0    1000.0    1000.0    1000.0       0.0    2000.0   \n",
       "2    15549.0    1518.0    1500.0    1000.0    1000.0    1000.0    5000.0   \n",
       "\n",
       "   default.payment.next.month  \n",
       "0                           1  \n",
       "1                           1  \n",
       "2                           0  "
      ]
     },
     "execution_count": 5,
     "metadata": {},
     "output_type": "execute_result"
    }
   ],
   "source": [
    "data_df.head(3)"
   ]
  },
  {
   "cell_type": "markdown",
   "metadata": {
    "_uuid": "80262c57b20a42f6f9bbda4e8c73ad80d137b8f7"
   },
   "source": [
    "Untuk melihat lebih detail mengenai data (secara statistik), dilakukan hal sebagai berikut: "
   ]
  },
  {
   "cell_type": "code",
   "execution_count": 6,
   "metadata": {
    "_uuid": "3912ba81657dec0482d93e0d3363592bda85398d"
   },
   "outputs": [
    {
     "data": {
      "text/html": [
       "<div>\n",
       "<style scoped>\n",
       "    .dataframe tbody tr th:only-of-type {\n",
       "        vertical-align: middle;\n",
       "    }\n",
       "\n",
       "    .dataframe tbody tr th {\n",
       "        vertical-align: top;\n",
       "    }\n",
       "\n",
       "    .dataframe thead th {\n",
       "        text-align: right;\n",
       "    }\n",
       "</style>\n",
       "<table border=\"1\" class=\"dataframe\">\n",
       "  <thead>\n",
       "    <tr style=\"text-align: right;\">\n",
       "      <th></th>\n",
       "      <th>ID</th>\n",
       "      <th>LIMIT_BAL</th>\n",
       "      <th>SEX</th>\n",
       "      <th>EDUCATION</th>\n",
       "      <th>MARRIAGE</th>\n",
       "      <th>AGE</th>\n",
       "      <th>PAY_0</th>\n",
       "      <th>PAY_2</th>\n",
       "      <th>PAY_3</th>\n",
       "      <th>PAY_4</th>\n",
       "      <th>PAY_5</th>\n",
       "      <th>PAY_6</th>\n",
       "      <th>BILL_AMT1</th>\n",
       "      <th>BILL_AMT2</th>\n",
       "      <th>BILL_AMT3</th>\n",
       "      <th>BILL_AMT4</th>\n",
       "      <th>BILL_AMT5</th>\n",
       "      <th>BILL_AMT6</th>\n",
       "      <th>PAY_AMT1</th>\n",
       "      <th>PAY_AMT2</th>\n",
       "      <th>PAY_AMT3</th>\n",
       "      <th>PAY_AMT4</th>\n",
       "      <th>PAY_AMT5</th>\n",
       "      <th>PAY_AMT6</th>\n",
       "      <th>default.payment.next.month</th>\n",
       "    </tr>\n",
       "  </thead>\n",
       "  <tbody>\n",
       "    <tr>\n",
       "      <th>count</th>\n",
       "      <td>30000.000000</td>\n",
       "      <td>30000.000000</td>\n",
       "      <td>30000.000000</td>\n",
       "      <td>30000.000000</td>\n",
       "      <td>30000.000000</td>\n",
       "      <td>30000.000000</td>\n",
       "      <td>30000.000000</td>\n",
       "      <td>30000.000000</td>\n",
       "      <td>30000.000000</td>\n",
       "      <td>30000.000000</td>\n",
       "      <td>30000.000000</td>\n",
       "      <td>30000.000000</td>\n",
       "      <td>30000.000000</td>\n",
       "      <td>30000.000000</td>\n",
       "      <td>3.000000e+04</td>\n",
       "      <td>30000.000000</td>\n",
       "      <td>30000.000000</td>\n",
       "      <td>30000.000000</td>\n",
       "      <td>30000.000000</td>\n",
       "      <td>3.000000e+04</td>\n",
       "      <td>30000.00000</td>\n",
       "      <td>30000.000000</td>\n",
       "      <td>30000.000000</td>\n",
       "      <td>30000.000000</td>\n",
       "      <td>30000.000000</td>\n",
       "    </tr>\n",
       "    <tr>\n",
       "      <th>mean</th>\n",
       "      <td>15000.500000</td>\n",
       "      <td>167484.322667</td>\n",
       "      <td>1.603733</td>\n",
       "      <td>1.853133</td>\n",
       "      <td>1.551867</td>\n",
       "      <td>35.485500</td>\n",
       "      <td>-0.016700</td>\n",
       "      <td>-0.133767</td>\n",
       "      <td>-0.166200</td>\n",
       "      <td>-0.220667</td>\n",
       "      <td>-0.266200</td>\n",
       "      <td>-0.291100</td>\n",
       "      <td>51223.330900</td>\n",
       "      <td>49179.075167</td>\n",
       "      <td>4.701315e+04</td>\n",
       "      <td>43262.948967</td>\n",
       "      <td>40311.400967</td>\n",
       "      <td>38871.760400</td>\n",
       "      <td>5663.580500</td>\n",
       "      <td>5.921163e+03</td>\n",
       "      <td>5225.68150</td>\n",
       "      <td>4826.076867</td>\n",
       "      <td>4799.387633</td>\n",
       "      <td>5215.502567</td>\n",
       "      <td>0.221200</td>\n",
       "    </tr>\n",
       "    <tr>\n",
       "      <th>std</th>\n",
       "      <td>8660.398374</td>\n",
       "      <td>129747.661567</td>\n",
       "      <td>0.489129</td>\n",
       "      <td>0.790349</td>\n",
       "      <td>0.521970</td>\n",
       "      <td>9.217904</td>\n",
       "      <td>1.123802</td>\n",
       "      <td>1.197186</td>\n",
       "      <td>1.196868</td>\n",
       "      <td>1.169139</td>\n",
       "      <td>1.133187</td>\n",
       "      <td>1.149988</td>\n",
       "      <td>73635.860576</td>\n",
       "      <td>71173.768783</td>\n",
       "      <td>6.934939e+04</td>\n",
       "      <td>64332.856134</td>\n",
       "      <td>60797.155770</td>\n",
       "      <td>59554.107537</td>\n",
       "      <td>16563.280354</td>\n",
       "      <td>2.304087e+04</td>\n",
       "      <td>17606.96147</td>\n",
       "      <td>15666.159744</td>\n",
       "      <td>15278.305679</td>\n",
       "      <td>17777.465775</td>\n",
       "      <td>0.415062</td>\n",
       "    </tr>\n",
       "    <tr>\n",
       "      <th>min</th>\n",
       "      <td>1.000000</td>\n",
       "      <td>10000.000000</td>\n",
       "      <td>1.000000</td>\n",
       "      <td>0.000000</td>\n",
       "      <td>0.000000</td>\n",
       "      <td>21.000000</td>\n",
       "      <td>-2.000000</td>\n",
       "      <td>-2.000000</td>\n",
       "      <td>-2.000000</td>\n",
       "      <td>-2.000000</td>\n",
       "      <td>-2.000000</td>\n",
       "      <td>-2.000000</td>\n",
       "      <td>-165580.000000</td>\n",
       "      <td>-69777.000000</td>\n",
       "      <td>-1.572640e+05</td>\n",
       "      <td>-170000.000000</td>\n",
       "      <td>-81334.000000</td>\n",
       "      <td>-339603.000000</td>\n",
       "      <td>0.000000</td>\n",
       "      <td>0.000000e+00</td>\n",
       "      <td>0.00000</td>\n",
       "      <td>0.000000</td>\n",
       "      <td>0.000000</td>\n",
       "      <td>0.000000</td>\n",
       "      <td>0.000000</td>\n",
       "    </tr>\n",
       "    <tr>\n",
       "      <th>25%</th>\n",
       "      <td>7500.750000</td>\n",
       "      <td>50000.000000</td>\n",
       "      <td>1.000000</td>\n",
       "      <td>1.000000</td>\n",
       "      <td>1.000000</td>\n",
       "      <td>28.000000</td>\n",
       "      <td>-1.000000</td>\n",
       "      <td>-1.000000</td>\n",
       "      <td>-1.000000</td>\n",
       "      <td>-1.000000</td>\n",
       "      <td>-1.000000</td>\n",
       "      <td>-1.000000</td>\n",
       "      <td>3558.750000</td>\n",
       "      <td>2984.750000</td>\n",
       "      <td>2.666250e+03</td>\n",
       "      <td>2326.750000</td>\n",
       "      <td>1763.000000</td>\n",
       "      <td>1256.000000</td>\n",
       "      <td>1000.000000</td>\n",
       "      <td>8.330000e+02</td>\n",
       "      <td>390.00000</td>\n",
       "      <td>296.000000</td>\n",
       "      <td>252.500000</td>\n",
       "      <td>117.750000</td>\n",
       "      <td>0.000000</td>\n",
       "    </tr>\n",
       "    <tr>\n",
       "      <th>50%</th>\n",
       "      <td>15000.500000</td>\n",
       "      <td>140000.000000</td>\n",
       "      <td>2.000000</td>\n",
       "      <td>2.000000</td>\n",
       "      <td>2.000000</td>\n",
       "      <td>34.000000</td>\n",
       "      <td>0.000000</td>\n",
       "      <td>0.000000</td>\n",
       "      <td>0.000000</td>\n",
       "      <td>0.000000</td>\n",
       "      <td>0.000000</td>\n",
       "      <td>0.000000</td>\n",
       "      <td>22381.500000</td>\n",
       "      <td>21200.000000</td>\n",
       "      <td>2.008850e+04</td>\n",
       "      <td>19052.000000</td>\n",
       "      <td>18104.500000</td>\n",
       "      <td>17071.000000</td>\n",
       "      <td>2100.000000</td>\n",
       "      <td>2.009000e+03</td>\n",
       "      <td>1800.00000</td>\n",
       "      <td>1500.000000</td>\n",
       "      <td>1500.000000</td>\n",
       "      <td>1500.000000</td>\n",
       "      <td>0.000000</td>\n",
       "    </tr>\n",
       "    <tr>\n",
       "      <th>75%</th>\n",
       "      <td>22500.250000</td>\n",
       "      <td>240000.000000</td>\n",
       "      <td>2.000000</td>\n",
       "      <td>2.000000</td>\n",
       "      <td>2.000000</td>\n",
       "      <td>41.000000</td>\n",
       "      <td>0.000000</td>\n",
       "      <td>0.000000</td>\n",
       "      <td>0.000000</td>\n",
       "      <td>0.000000</td>\n",
       "      <td>0.000000</td>\n",
       "      <td>0.000000</td>\n",
       "      <td>67091.000000</td>\n",
       "      <td>64006.250000</td>\n",
       "      <td>6.016475e+04</td>\n",
       "      <td>54506.000000</td>\n",
       "      <td>50190.500000</td>\n",
       "      <td>49198.250000</td>\n",
       "      <td>5006.000000</td>\n",
       "      <td>5.000000e+03</td>\n",
       "      <td>4505.00000</td>\n",
       "      <td>4013.250000</td>\n",
       "      <td>4031.500000</td>\n",
       "      <td>4000.000000</td>\n",
       "      <td>0.000000</td>\n",
       "    </tr>\n",
       "    <tr>\n",
       "      <th>max</th>\n",
       "      <td>30000.000000</td>\n",
       "      <td>1000000.000000</td>\n",
       "      <td>2.000000</td>\n",
       "      <td>6.000000</td>\n",
       "      <td>3.000000</td>\n",
       "      <td>79.000000</td>\n",
       "      <td>8.000000</td>\n",
       "      <td>8.000000</td>\n",
       "      <td>8.000000</td>\n",
       "      <td>8.000000</td>\n",
       "      <td>8.000000</td>\n",
       "      <td>8.000000</td>\n",
       "      <td>964511.000000</td>\n",
       "      <td>983931.000000</td>\n",
       "      <td>1.664089e+06</td>\n",
       "      <td>891586.000000</td>\n",
       "      <td>927171.000000</td>\n",
       "      <td>961664.000000</td>\n",
       "      <td>873552.000000</td>\n",
       "      <td>1.684259e+06</td>\n",
       "      <td>896040.00000</td>\n",
       "      <td>621000.000000</td>\n",
       "      <td>426529.000000</td>\n",
       "      <td>528666.000000</td>\n",
       "      <td>1.000000</td>\n",
       "    </tr>\n",
       "  </tbody>\n",
       "</table>\n",
       "</div>"
      ],
      "text/plain": [
       "                 ID       LIMIT_BAL           SEX     EDUCATION      MARRIAGE  \\\n",
       "count  30000.000000    30000.000000  30000.000000  30000.000000  30000.000000   \n",
       "mean   15000.500000   167484.322667      1.603733      1.853133      1.551867   \n",
       "std     8660.398374   129747.661567      0.489129      0.790349      0.521970   \n",
       "min        1.000000    10000.000000      1.000000      0.000000      0.000000   \n",
       "25%     7500.750000    50000.000000      1.000000      1.000000      1.000000   \n",
       "50%    15000.500000   140000.000000      2.000000      2.000000      2.000000   \n",
       "75%    22500.250000   240000.000000      2.000000      2.000000      2.000000   \n",
       "max    30000.000000  1000000.000000      2.000000      6.000000      3.000000   \n",
       "\n",
       "                AGE         PAY_0         PAY_2         PAY_3         PAY_4  \\\n",
       "count  30000.000000  30000.000000  30000.000000  30000.000000  30000.000000   \n",
       "mean      35.485500     -0.016700     -0.133767     -0.166200     -0.220667   \n",
       "std        9.217904      1.123802      1.197186      1.196868      1.169139   \n",
       "min       21.000000     -2.000000     -2.000000     -2.000000     -2.000000   \n",
       "25%       28.000000     -1.000000     -1.000000     -1.000000     -1.000000   \n",
       "50%       34.000000      0.000000      0.000000      0.000000      0.000000   \n",
       "75%       41.000000      0.000000      0.000000      0.000000      0.000000   \n",
       "max       79.000000      8.000000      8.000000      8.000000      8.000000   \n",
       "\n",
       "              PAY_5         PAY_6      BILL_AMT1      BILL_AMT2     BILL_AMT3  \\\n",
       "count  30000.000000  30000.000000   30000.000000   30000.000000  3.000000e+04   \n",
       "mean      -0.266200     -0.291100   51223.330900   49179.075167  4.701315e+04   \n",
       "std        1.133187      1.149988   73635.860576   71173.768783  6.934939e+04   \n",
       "min       -2.000000     -2.000000 -165580.000000  -69777.000000 -1.572640e+05   \n",
       "25%       -1.000000     -1.000000    3558.750000    2984.750000  2.666250e+03   \n",
       "50%        0.000000      0.000000   22381.500000   21200.000000  2.008850e+04   \n",
       "75%        0.000000      0.000000   67091.000000   64006.250000  6.016475e+04   \n",
       "max        8.000000      8.000000  964511.000000  983931.000000  1.664089e+06   \n",
       "\n",
       "           BILL_AMT4      BILL_AMT5      BILL_AMT6       PAY_AMT1  \\\n",
       "count   30000.000000   30000.000000   30000.000000   30000.000000   \n",
       "mean    43262.948967   40311.400967   38871.760400    5663.580500   \n",
       "std     64332.856134   60797.155770   59554.107537   16563.280354   \n",
       "min   -170000.000000  -81334.000000 -339603.000000       0.000000   \n",
       "25%      2326.750000    1763.000000    1256.000000    1000.000000   \n",
       "50%     19052.000000   18104.500000   17071.000000    2100.000000   \n",
       "75%     54506.000000   50190.500000   49198.250000    5006.000000   \n",
       "max    891586.000000  927171.000000  961664.000000  873552.000000   \n",
       "\n",
       "           PAY_AMT2      PAY_AMT3       PAY_AMT4       PAY_AMT5  \\\n",
       "count  3.000000e+04   30000.00000   30000.000000   30000.000000   \n",
       "mean   5.921163e+03    5225.68150    4826.076867    4799.387633   \n",
       "std    2.304087e+04   17606.96147   15666.159744   15278.305679   \n",
       "min    0.000000e+00       0.00000       0.000000       0.000000   \n",
       "25%    8.330000e+02     390.00000     296.000000     252.500000   \n",
       "50%    2.009000e+03    1800.00000    1500.000000    1500.000000   \n",
       "75%    5.000000e+03    4505.00000    4013.250000    4031.500000   \n",
       "max    1.684259e+06  896040.00000  621000.000000  426529.000000   \n",
       "\n",
       "            PAY_AMT6  default.payment.next.month  \n",
       "count   30000.000000                30000.000000  \n",
       "mean     5215.502567                    0.221200  \n",
       "std     17777.465775                    0.415062  \n",
       "min         0.000000                    0.000000  \n",
       "25%       117.750000                    0.000000  \n",
       "50%      1500.000000                    0.000000  \n",
       "75%      4000.000000                    0.000000  \n",
       "max    528666.000000                    1.000000  "
      ]
     },
     "execution_count": 6,
     "metadata": {},
     "output_type": "execute_result"
    }
   ],
   "source": [
    "data_df.describe()"
   ]
  },
  {
   "cell_type": "markdown",
   "metadata": {
    "_uuid": "f6ddff00531bf0fb0426ae16439b0c85209fec20"
   },
   "source": [
    "(Nb: Dari hasil diatas anda bisa menjelaskan bebarapa hal yang anda anggap penting untuk diceritakan), \n",
    "\n",
    "Contoh:\n",
    "\n",
    "Ada 30.000 klien kartu kredit yang berbeda. Nilai rata-rata untuk jumlah batas kartu kredit adalah 167.484. Terlihat bahwa standar deviasi sangat besar, nilai maksnya 1M. Tingkat pendidikan sebagian besar adalah sekolah pascasarjana dan universitas. Sebagian besar klien sudah menikah sedangkan yang berstatus lajang lebih jarang. Usia rata-rata adalah 35,5 tahun, dengan standar deviasi 9,2. Karena nilai 0 untuk pembayaran standar berarti 'not default' dan nilai 1 berarti 'default', rata-rata 0,221 berarti bahwa ada 22,1% kontrak kartu kredit yang akan default bulan depan (bagian ini selanjutnya akan diverifikasi dengan analisis lebih lanjut).\n"
   ]
  },
  {
   "cell_type": "markdown",
   "metadata": {
    "_uuid": "6ad232af9cc809e5c3d4a845e84f6040acdc0092"
   },
   "source": [
    "## <a id=\"42\">Data yang Hilang</a>  \n",
    "\n",
    "Mari kita periksa apakah ada data yang hilang. (Nb: Bagian ini sangat penting dilakukan untuk memastikan data anda sudah layak untuk dilakukan olah data yang lebih detail dan mempuni untuk dimasukkan dalam model)"
   ]
  },
  {
   "cell_type": "code",
   "execution_count": 7,
   "metadata": {
    "_uuid": "f2bdced82e9bb59ec24ac299085923f2e6ac1443"
   },
   "outputs": [
    {
     "data": {
      "text/html": [
       "<div>\n",
       "<style scoped>\n",
       "    .dataframe tbody tr th:only-of-type {\n",
       "        vertical-align: middle;\n",
       "    }\n",
       "\n",
       "    .dataframe tbody tr th {\n",
       "        vertical-align: top;\n",
       "    }\n",
       "\n",
       "    .dataframe thead th {\n",
       "        text-align: right;\n",
       "    }\n",
       "</style>\n",
       "<table border=\"1\" class=\"dataframe\">\n",
       "  <thead>\n",
       "    <tr style=\"text-align: right;\">\n",
       "      <th></th>\n",
       "      <th>ID</th>\n",
       "      <th>BILL_AMT2</th>\n",
       "      <th>PAY_AMT6</th>\n",
       "      <th>PAY_AMT5</th>\n",
       "      <th>PAY_AMT4</th>\n",
       "      <th>PAY_AMT3</th>\n",
       "      <th>PAY_AMT2</th>\n",
       "      <th>PAY_AMT1</th>\n",
       "      <th>BILL_AMT6</th>\n",
       "      <th>BILL_AMT5</th>\n",
       "      <th>BILL_AMT4</th>\n",
       "      <th>BILL_AMT3</th>\n",
       "      <th>BILL_AMT1</th>\n",
       "      <th>LIMIT_BAL</th>\n",
       "      <th>PAY_6</th>\n",
       "      <th>PAY_5</th>\n",
       "      <th>PAY_4</th>\n",
       "      <th>PAY_3</th>\n",
       "      <th>PAY_2</th>\n",
       "      <th>PAY_0</th>\n",
       "      <th>AGE</th>\n",
       "      <th>MARRIAGE</th>\n",
       "      <th>EDUCATION</th>\n",
       "      <th>SEX</th>\n",
       "      <th>default.payment.next.month</th>\n",
       "    </tr>\n",
       "  </thead>\n",
       "  <tbody>\n",
       "    <tr>\n",
       "      <th>Total</th>\n",
       "      <td>0.0</td>\n",
       "      <td>0.0</td>\n",
       "      <td>0.0</td>\n",
       "      <td>0.0</td>\n",
       "      <td>0.0</td>\n",
       "      <td>0.0</td>\n",
       "      <td>0.0</td>\n",
       "      <td>0.0</td>\n",
       "      <td>0.0</td>\n",
       "      <td>0.0</td>\n",
       "      <td>0.0</td>\n",
       "      <td>0.0</td>\n",
       "      <td>0.0</td>\n",
       "      <td>0.0</td>\n",
       "      <td>0.0</td>\n",
       "      <td>0.0</td>\n",
       "      <td>0.0</td>\n",
       "      <td>0.0</td>\n",
       "      <td>0.0</td>\n",
       "      <td>0.0</td>\n",
       "      <td>0.0</td>\n",
       "      <td>0.0</td>\n",
       "      <td>0.0</td>\n",
       "      <td>0.0</td>\n",
       "      <td>0.0</td>\n",
       "    </tr>\n",
       "    <tr>\n",
       "      <th>Percent</th>\n",
       "      <td>0.0</td>\n",
       "      <td>0.0</td>\n",
       "      <td>0.0</td>\n",
       "      <td>0.0</td>\n",
       "      <td>0.0</td>\n",
       "      <td>0.0</td>\n",
       "      <td>0.0</td>\n",
       "      <td>0.0</td>\n",
       "      <td>0.0</td>\n",
       "      <td>0.0</td>\n",
       "      <td>0.0</td>\n",
       "      <td>0.0</td>\n",
       "      <td>0.0</td>\n",
       "      <td>0.0</td>\n",
       "      <td>0.0</td>\n",
       "      <td>0.0</td>\n",
       "      <td>0.0</td>\n",
       "      <td>0.0</td>\n",
       "      <td>0.0</td>\n",
       "      <td>0.0</td>\n",
       "      <td>0.0</td>\n",
       "      <td>0.0</td>\n",
       "      <td>0.0</td>\n",
       "      <td>0.0</td>\n",
       "      <td>0.0</td>\n",
       "    </tr>\n",
       "  </tbody>\n",
       "</table>\n",
       "</div>"
      ],
      "text/plain": [
       "          ID  BILL_AMT2  PAY_AMT6  PAY_AMT5  PAY_AMT4  PAY_AMT3  PAY_AMT2  \\\n",
       "Total    0.0        0.0       0.0       0.0       0.0       0.0       0.0   \n",
       "Percent  0.0        0.0       0.0       0.0       0.0       0.0       0.0   \n",
       "\n",
       "         PAY_AMT1  BILL_AMT6  BILL_AMT5  BILL_AMT4  BILL_AMT3  BILL_AMT1  \\\n",
       "Total         0.0        0.0        0.0        0.0        0.0        0.0   \n",
       "Percent       0.0        0.0        0.0        0.0        0.0        0.0   \n",
       "\n",
       "         LIMIT_BAL  PAY_6  PAY_5  PAY_4  PAY_3  PAY_2  PAY_0  AGE  MARRIAGE  \\\n",
       "Total          0.0    0.0    0.0    0.0    0.0    0.0    0.0  0.0       0.0   \n",
       "Percent        0.0    0.0    0.0    0.0    0.0    0.0    0.0  0.0       0.0   \n",
       "\n",
       "         EDUCATION  SEX  default.payment.next.month  \n",
       "Total          0.0  0.0                         0.0  \n",
       "Percent        0.0  0.0                         0.0  "
      ]
     },
     "execution_count": 7,
     "metadata": {},
     "output_type": "execute_result"
    }
   ],
   "source": [
    "total = data_df.isnull().sum().sort_values(ascending = False)\n",
    "percent = (data_df.isnull().sum()/data_df.isnull().count()*100).sort_values(ascending = False)\n",
    "pd.concat([total, percent], axis=1, keys=['Total', 'Percent']).transpose()"
   ]
  },
  {
   "cell_type": "markdown",
   "metadata": {
    "_uuid": "5511ffa0221787a74267be037ef69b78f27d376a"
   },
   "source": [
    "Tidak ada data yang hilang di seluruh dataset."
   ]
  },
  {
   "cell_type": "markdown",
   "metadata": {
    "_uuid": "8c2e96567145b1a38cd61dd923897da4723466c7"
   },
   "source": [
    "## <a id=\"43\">Proporsi Sebaran Data</a>"
   ]
  },
  {
   "cell_type": "markdown",
   "metadata": {
    "_uuid": "eef10eb62d24eae34579d9ac6f5a517ddb71e5a6"
   },
   "source": [
    "Mari kita periksa ketidakseimbangan data, hal ini tentu akan sangat mempengaruhi variabel respon, dalam hal ini saya menggunkan **default.payment.next.month**."
   ]
  },
  {
   "cell_type": "code",
   "execution_count": 8,
   "metadata": {
    "_uuid": "67c4920c60ce33313ae3bedbd82c14c5bd49c5a1"
   },
   "outputs": [
    {
     "data": {
      "image/png": "[encoded data removed]",
      "text/plain": [
       "<Figure size 432x432 with 1 Axes>"
      ]
     },
     "metadata": {
      "needs_background": "light"
     },
     "output_type": "display_data"
    }
   ],
   "source": [
    "temp = data_df[\"default.payment.next.month\"].value_counts()\n",
    "df = pd.DataFrame({'default.payment.next.month': temp.index,'values': temp.values})\n",
    "plt.figure(figsize = (6,6))\n",
    "plt.title('Default Credit Card Clients - target value - data unbalance\\n (Default = 0, Not Default = 1)')\n",
    "sns.set_color_codes(\"pastel\")\n",
    "sns.barplot(x = 'default.payment.next.month', y=\"values\", data=df)\n",
    "locs, labels = plt.xticks()\n",
    "plt.show()"
   ]
  },
  {
   "cell_type": "markdown",
   "metadata": {
    "_uuid": "c7ebb8773d38e903073e1d3b721f772ca0984f98"
   },
   "source": [
    "Sejumlah 6.636 dari 30.000 (atau 22%) klien akan mengalami default bulan depan. Data tidak memiliki ketidakseimbangan besar sehubungan dengan nilai target (default.payment.next.month). Jadi, sejauh ini tidak ada masalah yang berarti dengan dataset yang akan digunakan."
   ]
  },
  {
   "cell_type": "markdown",
   "metadata": {
    "_uuid": "8b0e7324cb445d29098fdb9f6208a14c77f7f8a7"
   },
   "source": [
    "# <a id=\"5\">Eksplorasi Data</a>"
   ]
  },
  {
   "cell_type": "markdown",
   "metadata": {
    "_uuid": "38e84dcf84e5896a316f08ab6229566ff8b60904"
   },
   "source": [
    "## <a id=\"51\">Batasan Kredit </a>\n",
    "\n",
    "Pada tahap ini, dilakukan analisa sederhana mengenai batasan kredit yang biasa diberikan kepada klien (Konsumen). "
   ]
  },
  {
   "cell_type": "code",
   "execution_count": 9,
   "metadata": {
    "_uuid": "0b7032c010899f834f3f88733252681c303234d0"
   },
   "outputs": [
    {
     "data": {
      "image/png": "[encoded data removed]",
      "text/plain": [
       "<Figure size 1008x432 with 1 Axes>"
      ]
     },
     "metadata": {
      "needs_background": "light"
     },
     "output_type": "display_data"
    }
   ],
   "source": [
    "plt.figure(figsize = (14,6))\n",
    "plt.title('Amount of credit limit - Density Plot')\n",
    "sns.set_color_codes(\"pastel\")\n",
    "#sns.distplot(data_df['LIMIT_BAL'],kde=True,bins=200, color=\"blue\")\n",
    "sns.histplot(data_df['LIMIT_BAL'],kde=True,bins=200, color=\"blue\")\n",
    "plt.show()"
   ]
  },
  {
   "cell_type": "markdown",
   "metadata": {
    "_uuid": "5fba2d715f95af762f9dfaeb3d99bbb0bb57a57f"
   },
   "source": [
    "Kelompok terbesar jumlah batas kredit tampaknya berkisar 50 ribuan. Untuk memverifikasi dugaan tersebut, dilakukan;"
   ]
  },
  {
   "cell_type": "code",
   "execution_count": 10,
   "metadata": {
    "_uuid": "8cd18216790a60a629727243f1f1ab653bec74c3"
   },
   "outputs": [
    {
     "data": {
      "text/plain": [
       "(81,)"
      ]
     },
     "execution_count": 10,
     "metadata": {},
     "output_type": "execute_result"
    }
   ],
   "source": [
    "data_df['LIMIT_BAL'].value_counts().shape"
   ]
  },
  {
   "cell_type": "markdown",
   "metadata": {
    "_uuid": "fe97906bb5449a468e13c985570e1130a7783014"
   },
   "source": [
    "Ada 81 nilai berbeda untuk jumlah batas kredit."
   ]
  },
  {
   "cell_type": "code",
   "execution_count": 11,
   "metadata": {
    "_uuid": "d3a0a2910f74d03dca2642b6c2220f54cffa57cd"
   },
   "outputs": [
    {
     "data": {
      "text/plain": [
       "50000.0     3365\n",
       "20000.0     1976\n",
       "30000.0     1610\n",
       "80000.0     1567\n",
       "200000.0    1528\n",
       "Name: LIMIT_BAL, dtype: int64"
      ]
     },
     "execution_count": 11,
     "metadata": {},
     "output_type": "execute_result"
    }
   ],
   "source": [
    "data_df['LIMIT_BAL'].value_counts().head(5)"
   ]
  },
  {
   "cell_type": "markdown",
   "metadata": {
    "_uuid": "244921c20997e95c9c13dba45b49a5c2831b0baa"
   },
   "source": [
    "Ternyata benar bahwa, jumlah kartu kredit terbesar adalah dengan batas 50.000 (3365), diikuti oleh 20.000 (1976) dan 30.000 (1610), dst."
   ]
  },
  {
   "cell_type": "markdown",
   "metadata": {
    "_uuid": "fd204caf88b1b7b9edd15ed368719a6f9a48b3ed"
   },
   "source": [
    "## <a id=\"52\">Klasifikasi Batasan Kredit</a>\n",
    "\n",
    "Sekerang, akan diperlihatkan visualisasikan plot kepadatan untuk jumlah batas kredit (LIMIT_BAL), dikelompokkan berdasarkan pembayaran standar bulan depan. (Nb: Hal ini dilakukan untuk melihat sebaran data, kenormalan data tersebut)"
   ]
  },
  {
   "cell_type": "code",
   "execution_count": 12,
   "metadata": {
    "_uuid": "9798df0ce9321bf990e7fb2f3be19f5608face82"
   },
   "outputs": [
    {
     "data": {
      "image/png": "[encoded data removed]",
      "text/plain": [
       "<Figure size 1008x432 with 1 Axes>"
      ]
     },
     "metadata": {
      "needs_background": "light"
     },
     "output_type": "display_data"
    }
   ],
   "source": [
    "class_0 = data_df.loc[data_df['default.payment.next.month'] == 0][\"LIMIT_BAL\"]\n",
    "class_1 = data_df.loc[data_df['default.payment.next.month'] == 1][\"LIMIT_BAL\"]\n",
    "plt.figure(figsize = (14,6))\n",
    "plt.title('Default amount of credit limit  - grouped by Payment Next Month (Density Plot)')\n",
    "sns.set_color_codes(\"pastel\")\n",
    "# sns.distplot(class_1,kde=True,bins=200, color=\"red\")\n",
    "# sns.distplot(class_0,kde=True,bins=200, color=\"green\")\n",
    "sns.histplot(class_1,kde=True,bins=200, color=\"red\")\n",
    "sns.histplot(class_0,kde=True,bins=200, color=\"green\")\n",
    "plt.show()"
   ]
  },
  {
   "cell_type": "markdown",
   "metadata": {
    "_uuid": "95646db55a5e0995a929707e6fd44c0a5d5618ac"
   },
   "source": [
    "Sebagian besar default adalah untuk batas kredit 0-100.000 (dan kepadatan untuk interval ini lebih besar untuk default daripada non-default). Jumlah default yang lebih besar adalah untuk jumlah **50.000**, **20.000** dan **30.000**."
   ]
  },
  {
   "cell_type": "markdown",
   "metadata": {
    "_uuid": "40da097ab03cd0e9fc5ea989da1d89c92cb7e21b"
   },
   "source": [
    "## <a id=\"53\">Batas Kredit vs Jenis Kelamin</a>\n",
    "\n",
    "Pada tahap ini dilakukan analisis distribusi batas kredit vs jenis kelamin. Untuk jenis kelamin, 1 singkatan untuk pria dan 2 untuk wanita."
   ]
  },
  {
   "cell_type": "code",
   "execution_count": 13,
   "metadata": {
    "_uuid": "72ff6c3fd8a0934f5031951801ab948c6b296d77"
   },
   "outputs": [
    {
     "data": {
      "image/png": "[encoded data removed]",
      "text/plain": [
       "<Figure size 864x432 with 2 Axes>"
      ]
     },
     "metadata": {
      "needs_background": "light"
     },
     "output_type": "display_data"
    }
   ],
   "source": [
    "fig, (ax1, ax2) = plt.subplots(ncols=2, figsize=(12,6))\n",
    "s = sns.boxplot(ax = ax1, x=\"SEX\", y=\"LIMIT_BAL\", hue=\"SEX\",data=data_df, palette=\"PRGn\",showfliers=True)\n",
    "s = sns.boxplot(ax = ax2, x=\"SEX\", y=\"LIMIT_BAL\", hue=\"SEX\",data=data_df, palette=\"PRGn\",showfliers=False)\n",
    "plt.show();"
   ]
  },
  {
   "cell_type": "markdown",
   "metadata": {
    "_uuid": "b01cbd6fb011fd3fd7e252e569f6a5ba46aebf6a"
   },
   "source": [
    "Batas jumlah kredit cukup seimbang antara jenis kelamin. Laki-laki memiliki Q2 sedikit lebih kecil dan lebih besar Q3 dan Q4 dan rata-rata lebih rendah. Ditemukan bahwa wanita memiliki nilai max outlier yang lebih besar hingga kisaran (1M dolar NT)."
   ]
  },
  {
   "cell_type": "markdown",
   "metadata": {
    "_uuid": "1506dcdccb8aa2c7b81f5414b1f8bb7a60090b82"
   },
   "source": [
    "## <a id=\"54\">Check Korelasi</a>\n",
    "\n",
    "\n",
    "Untuk data yang bernilai numerik, biasanya dilakakan analisis korelasi. Oleh sebab itu berikut ini diperiksa korelasi jumlah laporan tagihan pada bulan April - September 2005."
   ]
  },
  {
   "cell_type": "code",
   "execution_count": 14,
   "metadata": {
    "_uuid": "7035f4813494ee6f34f975f479d966682879472d"
   },
   "outputs": [
    {
     "data": {
      "image/png": "[encoded data removed]",
      "text/plain": [
       "<Figure size 720x720 with 2 Axes>"
      ]
     },
     "metadata": {
      "needs_background": "light"
     },
     "output_type": "display_data"
    }
   ],
   "source": [
    "var = ['BILL_AMT1','BILL_AMT2','BILL_AMT3','BILL_AMT4','BILL_AMT5','BILL_AMT6']\n",
    "\n",
    "plt.figure(figsize = (10,10))\n",
    "plt.title('Amount of bill statement (Apr-Sept) \\ncorrelation plot (Pearson)')\n",
    "corr = data_df[var].corr()\n",
    "sns.heatmap(corr,xticklabels=corr.columns,yticklabels=corr.columns,linewidths=.1,vmin=-1, vmax=1)\n",
    "plt.show()"
   ]
  },
  {
   "cell_type": "markdown",
   "metadata": {
    "_uuid": "bbfc979befbe1c8363a97a2a69524c474be06d2a"
   },
   "source": [
    "Dari gambar terlihat bahwa adanya korelasi jumlah tagihan disetiap bulannya. Korelasi terendah ada pada September dan April. Oleh karena itu, berikutnya juga dilakukan pemeriksaan korelasi Jumlah pembayaran sebelumnya pada bulan April - September 2005."
   ]
  },
  {
   "cell_type": "code",
   "execution_count": 15,
   "metadata": {
    "_uuid": "2b144559a50de07d20577d0f81e34a19ccad9d0b"
   },
   "outputs": [
    {
     "data": {
      "image/png": "[encoded data removed]",
      "text/plain": [
       "<Figure size 720x720 with 2 Axes>"
      ]
     },
     "metadata": {
      "needs_background": "light"
     },
     "output_type": "display_data"
    }
   ],
   "source": [
    "var = ['PAY_AMT1', 'PAY_AMT2', 'PAY_AMT3', 'PAY_AMT4', 'PAY_AMT5']\n",
    "\n",
    "plt.figure(figsize = (10,10))\n",
    "plt.title('Amount of previous payment (Apr-Sept) \\ncorrelation plot (Pearson)')\n",
    "corr = data_df[var].corr()\n",
    "sns.heatmap(corr,xticklabels=corr.columns,yticklabels=corr.columns,linewidths=.1,vmin=-1, vmax=1)\n",
    "plt.show()"
   ]
  },
  {
   "cell_type": "markdown",
   "metadata": {
    "_uuid": "c9d47399c40e9a5ad0201b04a6cd2b0c260960ac"
   },
   "source": [
    "Ternyata tidak ada korelasi antara jumlah pembayaran sebelumnya untuk April-September 2005. Maka diperiksa juga korelasi antara status Pelunasan pada bulan April - September 2005."
   ]
  },
  {
   "cell_type": "code",
   "execution_count": 16,
   "metadata": {
    "_uuid": "a13839465e9821dfa37e023a2162c57b6cf5e50f"
   },
   "outputs": [
    {
     "data": {
      "image/png": "[encoded data removed]",
      "text/plain": [
       "<Figure size 576x576 with 2 Axes>"
      ]
     },
     "metadata": {
      "needs_background": "light"
     },
     "output_type": "display_data"
    }
   ],
   "source": [
    "var = ['PAY_0','PAY_2', 'PAY_3', 'PAY_4', 'PAY_5', 'PAY_6']\n",
    "\n",
    "plt.figure(figsize = (8,8))\n",
    "plt.title('Repayment status (Apr-Sept) \\ncorrelation plot (Pearson)')\n",
    "corr = data_df[var].corr()\n",
    "sns.heatmap(corr,xticklabels=corr.columns,yticklabels=corr.columns,linewidths=.1,vmin=-1, vmax=1)\n",
    "plt.show()"
   ]
  },
  {
   "cell_type": "markdown",
   "metadata": {
    "_uuid": "f8d995583794380d13d912ee16708a810264a596"
   },
   "source": [
    "Sejalan dengan korelasi jumlah tagihan, korelasi pembayaran juga menurun setiap bulannya. (Korelasi terendah ada pada September dan April).\n"
   ]
  },
  {
   "cell_type": "markdown",
   "metadata": {
    "_uuid": "15585be1ea3a15dfa71f94dfa3b3e2eecbb4860b"
   },
   "source": [
    "## <a id=\"55\">Jenis Kelamin, Pendidikan, Usia dan Pernikahan</a> \n",
    "\n",
    "\n",
    "Dibawah ini diperlihatkan distribusi jenis kelamin, pendidikan, usia dan pernikahan. Dimulai dengan menunjukkan Boxplot dengan distribusi usia yang dikelompokkan berdasarkan status pernikahan dan jenis kelamin.\n",
    "\n",
    "Makna status pernikahan adalah:\n",
    "\n",
    "* 0 : unknown (bisa diasumsikan lainnya juga)\n",
    "* 1 : menikah\n",
    "* 2 : tunggal\n",
    "* 3 : lainnya\n",
    "\n",
    "Arti seks adalah:\n",
    "\n",
    "* 1 : pria\n",
    "* 2 : wanita\n"
   ]
  },
  {
   "cell_type": "code",
   "execution_count": 17,
   "metadata": {
    "_uuid": "1cc27afe1ac18475a587fa48c2546a772ba113d7"
   },
   "outputs": [],
   "source": [
    "def boxplot_variation(feature1, feature2, feature3, width=16):\n",
    "    fig, ax1 = plt.subplots(ncols=1, figsize=(width,6))\n",
    "    s = sns.boxplot(ax = ax1, x=feature1, y=feature2, hue=feature3,\n",
    "                data=data_df, palette=\"PRGn\",showfliers=False)\n",
    "    s.set_xticklabels(s.get_xticklabels(),rotation=90)\n",
    "    plt.show();"
   ]
  },
  {
   "cell_type": "code",
   "execution_count": 18,
   "metadata": {
    "_uuid": "171bf9085be850d9f2379e747a8426bb2393eef0"
   },
   "outputs": [
    {
     "data": {
      "image/png": "[encoded data removed]",
      "text/plain": [
       "<Figure size 576x432 with 1 Axes>"
      ]
     },
     "metadata": {
      "needs_background": "light"
     },
     "output_type": "display_data"
    }
   ],
   "source": [
    "boxplot_variation('MARRIAGE','AGE', 'SEX',8)"
   ]
  },
  {
   "cell_type": "markdown",
   "metadata": {
    "_uuid": "cd69a5d738b7fc2a2e0ee831f52df7ab58af8fec"
   },
   "source": [
    "Seperti halnya status pernikahan 3 (lainnya), saat nilai rata-rata lebih dari 40 dan nilai Q4 lebih dari 60 berarti sebagian besar konsumen sudah menikah atau bercerai. Sementara status Menikah 0 tidak dapat ditentukan atau bercerai, karena nilai Q1 di atas nilai untuk menikah dengan kedua jenis kelamin.\n",
    "\n",
    "Pria yang menikah memiliki usia rata-rata di atas wanita yang sudah menikah. Laki-laki yang belum menikah memiliki nilai rata-rata untuk usia di atas wanita yang belum menikah juga tetapi lebih dekat. Nilai Q3 dan Q4 untuk pria yang sudah menikah berada di atas nilai yang sesuai untuk wanita yang sudah menikah.\n",
    "\n",
    "Melalui Boxplot tersebut terlihat dengan distribusi usia yang dikelompokkan berdasarkan pendidikan dan pernikahan.\n",
    "\n",
    "Arti status pendidikan adalah:\n",
    "\n",
    "* 1: sekolah pascasarjana\n",
    "* 2: universitas\n",
    "* 3: sekolah menengah\n",
    "* 4: lainnya\n",
    "* 5: tidak diketahui\n",
    "* 6: tidak tahu\n"
   ]
  },
  {
   "cell_type": "code",
   "execution_count": 19,
   "metadata": {
    "_uuid": "cab11aebd3ab5b2e413715c4018d7797aab8f589"
   },
   "outputs": [
    {
     "data": {
      "image/png": "[encoded data removed]",
      "text/plain": [
       "<Figure size 864x432 with 1 Axes>"
      ]
     },
     "metadata": {
      "needs_background": "light"
     },
     "output_type": "display_data"
    }
   ],
   "source": [
    "boxplot_variation('EDUCATION','AGE', 'MARRIAGE',12)"
   ]
  },
  {
   "cell_type": "markdown",
   "metadata": {
    "_uuid": "dccd80920ad4f691b4bd1eb235eaec7cc60e1d76"
   },
   "source": [
    "## <a id=\"56\">Batas Usia, Jenis Kelamin, dan Jumlah Kredit</a> \n",
    "\n",
    "\n",
    "Berikut diperlihatkan boxplot dengan distribusi batas jumlah kredit yang dikelompokkan berdasarkan usia dan jenis kelamin.\n",
    "\n"
   ]
  },
  {
   "cell_type": "code",
   "execution_count": 20,
   "metadata": {
    "_uuid": "061e4e1659f8f2ff296c019792a00c4fc220f965"
   },
   "outputs": [
    {
     "data": {
      "image/png": "[encoded data removed]",
      "text/plain": [
       "<Figure size 1152x432 with 1 Axes>"
      ]
     },
     "metadata": {
      "needs_background": "light"
     },
     "output_type": "display_data"
    }
   ],
   "source": [
    "boxplot_variation('AGE','LIMIT_BAL', 'SEX',16)"
   ]
  },
  {
   "cell_type": "markdown",
   "metadata": {
    "_uuid": "6f8f6e53c1e11982e0b93ea8343edbc8c4ff5626"
   },
   "source": [
    "Disimpulkan bahwa, nilai Q3 dan Q4 meningkat untuk pria dan wanita dengan usia sampai 35 tahun dan kemudian berosilasi dan mencapai maksimum Q4 untuk pria pada usia 64. Nilai rata-rata umumnya lebih kecil untuk pria daripada wanita, dengan beberapa pengecualian, misalnya pada usia 39, 48, hingga sekitar 60 tahun, di mana nilai rata-rata untuk pria umumnya lebih besar daripada wanita.\n",
    "\n",
    "\n",
    "(Nb: Tentu masih banyak hal yang bisa simpulkan dari boxplot diatas, tergantung prespektif dan logikan analisa kalian masing-masing)\n",
    "\n"
   ]
  },
  {
   "cell_type": "markdown",
   "metadata": {
    "_uuid": "4e0a341c5021a2fa9b2a83d904ecf93f7fdafb13"
   },
   "source": [
    "## <a id=\"57\">Status Perkawinan, Pendidikan, dan Batasan Kredit</a> \n",
    "\n",
    "\n",
    "Berikut ini diperlihatkan boxplot dengan distribusi batas jumlah kredit yang dikelompokkan berdasarkan status pernikahan dan tingkat pendidikan."
   ]
  },
  {
   "cell_type": "code",
   "execution_count": 21,
   "metadata": {
    "_uuid": "12a00ca1674ae0fa4bbe4be1c88d6e3b7f982ed4"
   },
   "outputs": [
    {
     "data": {
      "image/png": "[encoded data removed]",
      "text/plain": [
       "<Figure size 864x432 with 1 Axes>"
      ]
     },
     "metadata": {
      "needs_background": "light"
     },
     "output_type": "display_data"
    }
   ],
   "source": [
    "boxplot_variation('MARRIAGE','LIMIT_BAL', 'EDUCATION',12)"
   ]
  },
  {
   "cell_type": "markdown",
   "metadata": {},
   "source": [
    "Dari Boxplot diatas dapat disimpulkan bahwa tingkat pendidikan dan status pernikahan sedikit banyaknya mempengaruhi batasan kredit setiap klien atau konsumen."
   ]
  },
  {
   "cell_type": "markdown",
   "metadata": {
    "_uuid": "73afc4261ca3b69f57522d88b5d47fd09aa1719b"
   },
   "source": [
    "# <a id=\"6\">Pemodelan Prediksi</a>  \n",
    "\n"
   ]
  },
  {
   "cell_type": "markdown",
   "metadata": {
    "_uuid": "596403a32cf55fdecf560e1d224d56b0f05b27d3"
   },
   "source": [
    "## <a id=\"61\">Tentukan Variabel Prediktor dan Respon</a> \n",
    "\n",
    "Pada tahap ini adalah penentuan variabel prediktor dan respon (target). Meninjau variabel kategorikal jika ada, kebetulan pada kasus ini tidak ada fitur kategorikal."
   ]
  },
  {
   "cell_type": "code",
   "execution_count": 22,
   "metadata": {
    "_uuid": "ed83bdac133ff9798c30e47251b9df9b1caaebf2"
   },
   "outputs": [],
   "source": [
    "target = 'default.payment.next.month'\n",
    "predictors = [  'LIMIT_BAL', 'SEX', 'EDUCATION', 'MARRIAGE', 'AGE', \n",
    "                'PAY_0', 'PAY_2', 'PAY_3', 'PAY_4', 'PAY_5', 'PAY_6', \n",
    "                'BILL_AMT1','BILL_AMT2', 'BILL_AMT3', 'BILL_AMT4', 'BILL_AMT5', 'BILL_AMT6',\n",
    "                'PAY_AMT1', 'PAY_AMT2', 'PAY_AMT3', 'PAY_AMT4', 'PAY_AMT5', 'PAY_AMT6']"
   ]
  },
  {
   "cell_type": "markdown",
   "metadata": {
    "_uuid": "87ecb2db1421b29644b62775a84a874a9d2d4d4b"
   },
   "source": [
    "## <a id=\"62\">Split Data Training dan Data Validasi</a>\n",
    "\n",
    "Memisahkan data training dan data validasi"
   ]
  },
  {
   "cell_type": "code",
   "execution_count": 23,
   "metadata": {
    "_uuid": "7cba85c44c5b6522daa9a0f7cea8529034c0fbe2"
   },
   "outputs": [],
   "source": [
    "train_df, val_df = train_test_split(data_df, test_size=VALID_SIZE, random_state=RANDOM_STATE, shuffle=True )"
   ]
  },
  {
   "cell_type": "markdown",
   "metadata": {
    "_uuid": "69bcbd2d41e85d4d9ef387002b38eea21b0db33d"
   },
   "source": [
    "Sebaiknya juga membuat salinan train_df dan val_df untuk penggunaan nanti."
   ]
  },
  {
   "cell_type": "code",
   "execution_count": 24,
   "metadata": {
    "_uuid": "39e5bd937ae1eb4fdf4157aba7401ce06e1552a4"
   },
   "outputs": [],
   "source": [
    "train_df_bkp = train_df.copy()\n",
    "val_df_bkp = val_df.copy()"
   ]
  },
  {
   "cell_type": "markdown",
   "metadata": {
    "_uuid": "1a7bacba0608e42987611ec8dcd92bf23bacee06"
   },
   "source": [
    "Dimulai dengan penerapa metode Random Forrest Classifier <a href='#8'>[3]</a>."
   ]
  },
  {
   "cell_type": "markdown",
   "metadata": {
    "_uuid": "096f1893c45701dd88e0f96b680a21d426a6925c"
   },
   "source": [
    "## <a id=\"63\">Random Forest Classifier</a>\n",
    "\n",
    "\n"
   ]
  },
  {
   "cell_type": "markdown",
   "metadata": {
    "_uuid": "e899349135d54641ab939fff53679195af84762e"
   },
   "source": [
    "\n",
    "Mari kita jalankan model menggunakan set pelatihan untuk pelatihan. Kemudian, kami akan menggunakan set validasi untuk validasi.\n",
    "\n",
    "### Metrik (Metric)\n",
    "\n",
    "Pada penelitian ini digunakan kriteria validasi (validation criterion) **GINI**, yang rumusnya **GINI = 2 * (AUC) - 1**, di mana **AUC** adalah **Karakteristik Operasi Penerima - Area Di Bawah Kurva (ROC-AUC )**. Jumlah estimator diatur ke **100** dan jumlah iterasi pengulangan paralel disesuaikan dengan <a href='#8'> [4]</a>.\n",
    "\n",
    "Berikutnya dilakukan inisialisasi Random Forest Classifier dibawah ini."
   ]
  },
  {
   "cell_type": "code",
   "execution_count": 25,
   "metadata": {
    "_uuid": "0b68705dd0608bd3c7aa47155a36267eab7579f5"
   },
   "outputs": [],
   "source": [
    "clf = RandomForestClassifier(n_jobs=NO_JOBS, \n",
    "                             random_state=RANDOM_STATE,\n",
    "                             criterion=RFC_METRIC,\n",
    "                             n_estimators=NUM_ESTIMATORS,\n",
    "                             verbose=False)"
   ]
  },
  {
   "cell_type": "markdown",
   "metadata": {
    "_uuid": "9b8f790b4e490d9027101b00280f02db4edce713"
   },
   "source": [
    "Berikutnya dilakukan pelatihan model Randon Forest Classifier menggunakan data train_df dan fungsi fitnya."
   ]
  },
  {
   "cell_type": "code",
   "execution_count": 26,
   "metadata": {
    "_uuid": "e192077d77551fa432b472ad58d96e4724e005e2"
   },
   "outputs": [
    {
     "data": {
      "text/plain": [
       "RandomForestClassifier(n_jobs=4, random_state=2018, verbose=False)"
      ]
     },
     "execution_count": 26,
     "metadata": {},
     "output_type": "execute_result"
    }
   ],
   "source": [
    "clf.fit(train_df[predictors], train_df[target].values)"
   ]
  },
  {
   "cell_type": "markdown",
   "metadata": {
    "_uuid": "8ceaf179b74cabe9e1c2375196d8016e5d636198"
   },
   "source": [
    "Sekarang dilakukan prediksi nilai **target** untuk **val_df** data, menggunakan fungsi **predict**."
   ]
  },
  {
   "cell_type": "code",
   "execution_count": 27,
   "metadata": {
    "_uuid": "5e7f117e78f12dd595303b362026069882202346"
   },
   "outputs": [],
   "source": [
    "preds = clf.predict(val_df[predictors])"
   ]
  },
  {
   "cell_type": "markdown",
   "metadata": {
    "_uuid": "5c1204cda5a396d1032b6df71a2a88f072988fcd"
   },
   "source": [
    "Sebaiknya lakukan visualisasi untuk menentukan variabel yang sangat mempengaruhi.\n",
    "\n",
    "### Features importance"
   ]
  },
  {
   "cell_type": "code",
   "execution_count": 28,
   "metadata": {
    "_uuid": "9e71725dd69c24eeb86fd46193c8aa92501b7a87"
   },
   "outputs": [
    {
     "data": {
      "image/png": "[encoded data removed]",
      "text/plain": [
       "<Figure size 504x288 with 1 Axes>"
      ]
     },
     "metadata": {
      "needs_background": "light"
     },
     "output_type": "display_data"
    }
   ],
   "source": [
    "tmp = pd.DataFrame({'Feature': predictors, 'Feature importance': clf.feature_importances_})\n",
    "tmp = tmp.sort_values(by='Feature importance',ascending=False)\n",
    "plt.figure(figsize = (7,4))\n",
    "plt.title('Features importance',fontsize=14)\n",
    "s = sns.barplot(x='Feature',y='Feature importance',data=tmp)\n",
    "s.set_xticklabels(s.get_xticklabels(),rotation=90)\n",
    "plt.show()   \n"
   ]
  },
  {
   "cell_type": "markdown",
   "metadata": {
    "_uuid": "5aabd45f5affab5f3cfd1759bf030b1851a5d3f4"
   },
   "source": [
    "Fitur yang paling penting adalah **PAY_0**, **AGE**, **BILL_AMT1**, **LIMIT_BAL**, **BILL_AMT2**, **BILL_AMT3**.\n",
    "\n",
    "\n",
    "### Confusion matrix\n",
    "\n",
    "Berikut ditunjukkan matriks keputusan untuk hasil yang diperoleh."
   ]
  },
  {
   "cell_type": "code",
   "execution_count": 29,
   "metadata": {
    "_uuid": "099090571caa94dbd3c4c5c8b44786b5825d1d24"
   },
   "outputs": [
    {
     "data": {
      "image/png": "[encoded data removed]",
      "text/plain": [
       "<Figure size 360x360 with 2 Axes>"
      ]
     },
     "metadata": {
      "needs_background": "light"
     },
     "output_type": "display_data"
    }
   ],
   "source": [
    "cm = pd.crosstab(val_df[target].values, preds, rownames=['Actual'], colnames=['Predicted'])\n",
    "fig, (ax1) = plt.subplots(ncols=1, figsize=(5,5))\n",
    "sns.heatmap(cm, \n",
    "            xticklabels=['Not Default', 'Default'],\n",
    "            yticklabels=['Not Default', 'Default'],\n",
    "            annot=True,ax=ax1,\n",
    "            linewidths=.2,linecolor=\"Darkblue\", cmap=\"Blues\")\n",
    "plt.title('Confusion Matrix', fontsize=14)\n",
    "plt.show()"
   ]
  },
  {
   "cell_type": "markdown",
   "metadata": {
    "_uuid": "0047e64d40a20807775967c880f803e0813cfd09"
   },
   "source": [
    "Dapat juga dilakukan dengan menghitung persentasi area di bawah kurva sebagai berikut:"
   ]
  },
  {
   "cell_type": "code",
   "execution_count": 30,
   "metadata": {
    "_uuid": "b418598145d37cc5773fe43b72b3383b3c213345"
   },
   "outputs": [
    {
     "data": {
      "text/plain": [
       "0.6625018741566295"
      ]
     },
     "execution_count": 30,
     "metadata": {},
     "output_type": "execute_result"
    }
   ],
   "source": [
    "roc_auc_score(val_df[target].values, preds)"
   ]
  },
  {
   "cell_type": "markdown",
   "metadata": {
    "_uuid": "38c54fa21fdbaf4d839ec405503ba0c595f06221"
   },
   "source": [
    "Skor **ROC-AUC** yang diperoleh dengan **Random Forrest Classifier** adalah **0,66**.\n",
    "\n",
    "\n",
    "Berikutnya digunakan untuk Random Forrest Classifier **variabel dummi** untuk **fitur-fitur kategori**. Dapat dimulai dengan mendefinisikan fitur-fitur kategorikal.\n",
    "\n",
    "\n",
    "## <a id=\"64\">Random Forrest with OneHotEncoder</a> "
   ]
  },
  {
   "cell_type": "code",
   "execution_count": 31,
   "metadata": {
    "_uuid": "93dad6172fdd5f8318439a39844f587ed2c2d375"
   },
   "outputs": [],
   "source": [
    "cat_features = ['EDUCATION', 'SEX', 'MARRIAGE', 'PAY_0', 'PAY_2', 'PAY_3', 'PAY_4', 'PAY_5', 'PAY_6']"
   ]
  },
  {
   "cell_type": "code",
   "execution_count": 32,
   "metadata": {
    "_uuid": "47e3e1a5f242a891cce4d36f895fea99d61c42c7"
   },
   "outputs": [],
   "source": [
    "train_f_df = pd.get_dummies(train_df_bkp, columns = cat_features)\n",
    "val_f_df = pd.get_dummies(val_df_bkp, columns = cat_features)"
   ]
  },
  {
   "cell_type": "code",
   "execution_count": 33,
   "metadata": {
    "_uuid": "87da5bd3c3eb8270452520f32903e53325a6256c"
   },
   "outputs": [
    {
     "name": "stdout",
     "output_type": "stream",
     "text": [
      "Default of Credit Card Clients train data -  rows: 24000  columns: 93\n",
      "Default of Credit Card Clients val  data -  rows: 6000  columns: 86\n"
     ]
    }
   ],
   "source": [
    "print(\"Default of Credit Card Clients train data -  rows:\",train_f_df.shape[0],\" columns:\", train_f_df.shape[1])\n",
    "print(\"Default of Credit Card Clients val  data -  rows:\",val_f_df.shape[0],\" columns:\", val_f_df.shape[1])"
   ]
  },
  {
   "cell_type": "markdown",
   "metadata": {
    "_uuid": "1057c04a9b4d6fb14e461dd6a2ea13cdafffaebd"
   },
   "source": [
    "Karena data training dan validasi tidak memiliki jumlah kolom yang sama, maka kita perlu untuk menyelaraskannya."
   ]
  },
  {
   "cell_type": "code",
   "execution_count": 34,
   "metadata": {
    "_uuid": "b00b625b9778665020897d4b3bdeee8d5799441a"
   },
   "outputs": [],
   "source": [
    "train_fa_df, val_fa_df = train_f_df.align(val_f_df, join='outer', axis=1, fill_value=0)"
   ]
  },
  {
   "cell_type": "markdown",
   "metadata": {
    "_uuid": "18bde056f74f1b862fa1b82c916cabff5caed067"
   },
   "source": [
    "Diperiksa lagi datanya."
   ]
  },
  {
   "cell_type": "code",
   "execution_count": 35,
   "metadata": {
    "_uuid": "e956c355ab32a76c420371cdab1deeee1bb61026"
   },
   "outputs": [
    {
     "name": "stdout",
     "output_type": "stream",
     "text": [
      "Default of Credit Card Clients train data -  rows: 24000  columns: 93\n",
      "Default of Credit Card Clients val  data -  rows: 6000  columns: 93\n"
     ]
    }
   ],
   "source": [
    "print(\"Default of Credit Card Clients train data -  rows:\",train_fa_df.shape[0],\" columns:\", train_fa_df.shape[1])\n",
    "print(\"Default of Credit Card Clients val  data -  rows:\",val_fa_df.shape[0],\" columns:\", val_fa_df.shape[1])"
   ]
  },
  {
   "cell_type": "code",
   "execution_count": 36,
   "metadata": {
    "_uuid": "ef0289dee21fecb61fa7d87b474833b98a84dfa3"
   },
   "outputs": [
    {
     "data": {
      "text/html": [
       "<div>\n",
       "<style scoped>\n",
       "    .dataframe tbody tr th:only-of-type {\n",
       "        vertical-align: middle;\n",
       "    }\n",
       "\n",
       "    .dataframe tbody tr th {\n",
       "        vertical-align: top;\n",
       "    }\n",
       "\n",
       "    .dataframe thead th {\n",
       "        text-align: right;\n",
       "    }\n",
       "</style>\n",
       "<table border=\"1\" class=\"dataframe\">\n",
       "  <thead>\n",
       "    <tr style=\"text-align: right;\">\n",
       "      <th></th>\n",
       "      <th>AGE</th>\n",
       "      <th>BILL_AMT1</th>\n",
       "      <th>BILL_AMT2</th>\n",
       "      <th>BILL_AMT3</th>\n",
       "      <th>BILL_AMT4</th>\n",
       "      <th>BILL_AMT5</th>\n",
       "      <th>BILL_AMT6</th>\n",
       "      <th>EDUCATION_0</th>\n",
       "      <th>EDUCATION_1</th>\n",
       "      <th>EDUCATION_2</th>\n",
       "      <th>EDUCATION_3</th>\n",
       "      <th>EDUCATION_4</th>\n",
       "      <th>EDUCATION_5</th>\n",
       "      <th>EDUCATION_6</th>\n",
       "      <th>ID</th>\n",
       "      <th>LIMIT_BAL</th>\n",
       "      <th>MARRIAGE_0</th>\n",
       "      <th>MARRIAGE_1</th>\n",
       "      <th>MARRIAGE_2</th>\n",
       "      <th>MARRIAGE_3</th>\n",
       "      <th>PAY_0_-1</th>\n",
       "      <th>PAY_0_-2</th>\n",
       "      <th>PAY_0_0</th>\n",
       "      <th>PAY_0_1</th>\n",
       "      <th>PAY_0_2</th>\n",
       "      <th>PAY_0_3</th>\n",
       "      <th>PAY_0_4</th>\n",
       "      <th>PAY_0_5</th>\n",
       "      <th>PAY_0_6</th>\n",
       "      <th>PAY_0_7</th>\n",
       "      <th>PAY_0_8</th>\n",
       "      <th>PAY_2_-1</th>\n",
       "      <th>PAY_2_-2</th>\n",
       "      <th>PAY_2_0</th>\n",
       "      <th>PAY_2_1</th>\n",
       "      <th>PAY_2_2</th>\n",
       "      <th>PAY_2_3</th>\n",
       "      <th>PAY_2_4</th>\n",
       "      <th>PAY_2_5</th>\n",
       "      <th>PAY_2_6</th>\n",
       "      <th>PAY_2_7</th>\n",
       "      <th>PAY_2_8</th>\n",
       "      <th>PAY_3_-1</th>\n",
       "      <th>PAY_3_-2</th>\n",
       "      <th>PAY_3_0</th>\n",
       "      <th>PAY_3_1</th>\n",
       "      <th>PAY_3_2</th>\n",
       "      <th>PAY_3_3</th>\n",
       "      <th>PAY_3_4</th>\n",
       "      <th>PAY_3_5</th>\n",
       "      <th>PAY_3_6</th>\n",
       "      <th>PAY_3_7</th>\n",
       "      <th>PAY_3_8</th>\n",
       "      <th>PAY_4_-1</th>\n",
       "      <th>PAY_4_-2</th>\n",
       "      <th>PAY_4_0</th>\n",
       "      <th>PAY_4_1</th>\n",
       "      <th>PAY_4_2</th>\n",
       "      <th>PAY_4_3</th>\n",
       "      <th>PAY_4_4</th>\n",
       "      <th>PAY_4_5</th>\n",
       "      <th>PAY_4_6</th>\n",
       "      <th>PAY_4_7</th>\n",
       "      <th>PAY_4_8</th>\n",
       "      <th>PAY_5_-1</th>\n",
       "      <th>PAY_5_-2</th>\n",
       "      <th>PAY_5_0</th>\n",
       "      <th>PAY_5_2</th>\n",
       "      <th>PAY_5_3</th>\n",
       "      <th>PAY_5_4</th>\n",
       "      <th>PAY_5_5</th>\n",
       "      <th>PAY_5_6</th>\n",
       "      <th>PAY_5_7</th>\n",
       "      <th>PAY_5_8</th>\n",
       "      <th>PAY_6_-1</th>\n",
       "      <th>PAY_6_-2</th>\n",
       "      <th>PAY_6_0</th>\n",
       "      <th>PAY_6_2</th>\n",
       "      <th>PAY_6_3</th>\n",
       "      <th>PAY_6_4</th>\n",
       "      <th>PAY_6_5</th>\n",
       "      <th>PAY_6_6</th>\n",
       "      <th>PAY_6_7</th>\n",
       "      <th>PAY_6_8</th>\n",
       "      <th>PAY_AMT1</th>\n",
       "      <th>PAY_AMT2</th>\n",
       "      <th>PAY_AMT3</th>\n",
       "      <th>PAY_AMT4</th>\n",
       "      <th>PAY_AMT5</th>\n",
       "      <th>PAY_AMT6</th>\n",
       "      <th>SEX_1</th>\n",
       "      <th>SEX_2</th>\n",
       "      <th>default.payment.next.month</th>\n",
       "    </tr>\n",
       "  </thead>\n",
       "  <tbody>\n",
       "    <tr>\n",
       "      <th>22659</th>\n",
       "      <td>48</td>\n",
       "      <td>175095.0</td>\n",
       "      <td>175522.0</td>\n",
       "      <td>173918.0</td>\n",
       "      <td>174074.0</td>\n",
       "      <td>178671.0</td>\n",
       "      <td>178869.0</td>\n",
       "      <td>0</td>\n",
       "      <td>0</td>\n",
       "      <td>0</td>\n",
       "      <td>1</td>\n",
       "      <td>0</td>\n",
       "      <td>0</td>\n",
       "      <td>0</td>\n",
       "      <td>22660</td>\n",
       "      <td>150000.0</td>\n",
       "      <td>0</td>\n",
       "      <td>0</td>\n",
       "      <td>1</td>\n",
       "      <td>0</td>\n",
       "      <td>0</td>\n",
       "      <td>0</td>\n",
       "      <td>1</td>\n",
       "      <td>0</td>\n",
       "      <td>0</td>\n",
       "      <td>0</td>\n",
       "      <td>0</td>\n",
       "      <td>0</td>\n",
       "      <td>0</td>\n",
       "      <td>0</td>\n",
       "      <td>0</td>\n",
       "      <td>0</td>\n",
       "      <td>0</td>\n",
       "      <td>1</td>\n",
       "      <td>0</td>\n",
       "      <td>0</td>\n",
       "      <td>0</td>\n",
       "      <td>0</td>\n",
       "      <td>0</td>\n",
       "      <td>0</td>\n",
       "      <td>0</td>\n",
       "      <td>0</td>\n",
       "      <td>0</td>\n",
       "      <td>0</td>\n",
       "      <td>1</td>\n",
       "      <td>0</td>\n",
       "      <td>0</td>\n",
       "      <td>0</td>\n",
       "      <td>0</td>\n",
       "      <td>0</td>\n",
       "      <td>0</td>\n",
       "      <td>0</td>\n",
       "      <td>0</td>\n",
       "      <td>0</td>\n",
       "      <td>0</td>\n",
       "      <td>1</td>\n",
       "      <td>0</td>\n",
       "      <td>0</td>\n",
       "      <td>0</td>\n",
       "      <td>0</td>\n",
       "      <td>0</td>\n",
       "      <td>0</td>\n",
       "      <td>0</td>\n",
       "      <td>0</td>\n",
       "      <td>0</td>\n",
       "      <td>0</td>\n",
       "      <td>1</td>\n",
       "      <td>0</td>\n",
       "      <td>0</td>\n",
       "      <td>0</td>\n",
       "      <td>0</td>\n",
       "      <td>0</td>\n",
       "      <td>0</td>\n",
       "      <td>0</td>\n",
       "      <td>0</td>\n",
       "      <td>0</td>\n",
       "      <td>1</td>\n",
       "      <td>0</td>\n",
       "      <td>0</td>\n",
       "      <td>0</td>\n",
       "      <td>0</td>\n",
       "      <td>0</td>\n",
       "      <td>0</td>\n",
       "      <td>0</td>\n",
       "      <td>10011.0</td>\n",
       "      <td>6200.0</td>\n",
       "      <td>5874.0</td>\n",
       "      <td>10000.0</td>\n",
       "      <td>6054.0</td>\n",
       "      <td>7108.0</td>\n",
       "      <td>0</td>\n",
       "      <td>1</td>\n",
       "      <td>0</td>\n",
       "    </tr>\n",
       "    <tr>\n",
       "      <th>6618</th>\n",
       "      <td>37</td>\n",
       "      <td>8788.0</td>\n",
       "      <td>40927.0</td>\n",
       "      <td>28306.0</td>\n",
       "      <td>31578.0</td>\n",
       "      <td>21195.0</td>\n",
       "      <td>11776.0</td>\n",
       "      <td>0</td>\n",
       "      <td>0</td>\n",
       "      <td>1</td>\n",
       "      <td>0</td>\n",
       "      <td>0</td>\n",
       "      <td>0</td>\n",
       "      <td>0</td>\n",
       "      <td>6619</td>\n",
       "      <td>180000.0</td>\n",
       "      <td>0</td>\n",
       "      <td>0</td>\n",
       "      <td>1</td>\n",
       "      <td>0</td>\n",
       "      <td>1</td>\n",
       "      <td>0</td>\n",
       "      <td>0</td>\n",
       "      <td>0</td>\n",
       "      <td>0</td>\n",
       "      <td>0</td>\n",
       "      <td>0</td>\n",
       "      <td>0</td>\n",
       "      <td>0</td>\n",
       "      <td>0</td>\n",
       "      <td>0</td>\n",
       "      <td>1</td>\n",
       "      <td>0</td>\n",
       "      <td>0</td>\n",
       "      <td>0</td>\n",
       "      <td>0</td>\n",
       "      <td>0</td>\n",
       "      <td>0</td>\n",
       "      <td>0</td>\n",
       "      <td>0</td>\n",
       "      <td>0</td>\n",
       "      <td>0</td>\n",
       "      <td>0</td>\n",
       "      <td>0</td>\n",
       "      <td>1</td>\n",
       "      <td>0</td>\n",
       "      <td>0</td>\n",
       "      <td>0</td>\n",
       "      <td>0</td>\n",
       "      <td>0</td>\n",
       "      <td>0</td>\n",
       "      <td>0</td>\n",
       "      <td>0</td>\n",
       "      <td>0</td>\n",
       "      <td>0</td>\n",
       "      <td>1</td>\n",
       "      <td>0</td>\n",
       "      <td>0</td>\n",
       "      <td>0</td>\n",
       "      <td>0</td>\n",
       "      <td>0</td>\n",
       "      <td>0</td>\n",
       "      <td>0</td>\n",
       "      <td>0</td>\n",
       "      <td>0</td>\n",
       "      <td>0</td>\n",
       "      <td>1</td>\n",
       "      <td>0</td>\n",
       "      <td>0</td>\n",
       "      <td>0</td>\n",
       "      <td>0</td>\n",
       "      <td>0</td>\n",
       "      <td>0</td>\n",
       "      <td>0</td>\n",
       "      <td>1</td>\n",
       "      <td>0</td>\n",
       "      <td>0</td>\n",
       "      <td>0</td>\n",
       "      <td>0</td>\n",
       "      <td>0</td>\n",
       "      <td>0</td>\n",
       "      <td>0</td>\n",
       "      <td>0</td>\n",
       "      <td>0</td>\n",
       "      <td>40970.0</td>\n",
       "      <td>1210.0</td>\n",
       "      <td>10015.0</td>\n",
       "      <td>10009.0</td>\n",
       "      <td>11783.0</td>\n",
       "      <td>110306.0</td>\n",
       "      <td>1</td>\n",
       "      <td>0</td>\n",
       "      <td>0</td>\n",
       "    </tr>\n",
       "    <tr>\n",
       "      <th>26605</th>\n",
       "      <td>23</td>\n",
       "      <td>2400.0</td>\n",
       "      <td>2400.0</td>\n",
       "      <td>2400.0</td>\n",
       "      <td>2400.0</td>\n",
       "      <td>2400.0</td>\n",
       "      <td>1800.0</td>\n",
       "      <td>0</td>\n",
       "      <td>0</td>\n",
       "      <td>1</td>\n",
       "      <td>0</td>\n",
       "      <td>0</td>\n",
       "      <td>0</td>\n",
       "      <td>0</td>\n",
       "      <td>26606</td>\n",
       "      <td>20000.0</td>\n",
       "      <td>0</td>\n",
       "      <td>0</td>\n",
       "      <td>1</td>\n",
       "      <td>0</td>\n",
       "      <td>0</td>\n",
       "      <td>0</td>\n",
       "      <td>0</td>\n",
       "      <td>0</td>\n",
       "      <td>0</td>\n",
       "      <td>1</td>\n",
       "      <td>0</td>\n",
       "      <td>0</td>\n",
       "      <td>0</td>\n",
       "      <td>0</td>\n",
       "      <td>0</td>\n",
       "      <td>0</td>\n",
       "      <td>0</td>\n",
       "      <td>0</td>\n",
       "      <td>0</td>\n",
       "      <td>1</td>\n",
       "      <td>0</td>\n",
       "      <td>0</td>\n",
       "      <td>0</td>\n",
       "      <td>0</td>\n",
       "      <td>0</td>\n",
       "      <td>0</td>\n",
       "      <td>0</td>\n",
       "      <td>0</td>\n",
       "      <td>0</td>\n",
       "      <td>0</td>\n",
       "      <td>1</td>\n",
       "      <td>0</td>\n",
       "      <td>0</td>\n",
       "      <td>0</td>\n",
       "      <td>0</td>\n",
       "      <td>0</td>\n",
       "      <td>0</td>\n",
       "      <td>0</td>\n",
       "      <td>0</td>\n",
       "      <td>0</td>\n",
       "      <td>0</td>\n",
       "      <td>0</td>\n",
       "      <td>0</td>\n",
       "      <td>0</td>\n",
       "      <td>0</td>\n",
       "      <td>0</td>\n",
       "      <td>1</td>\n",
       "      <td>0</td>\n",
       "      <td>0</td>\n",
       "      <td>0</td>\n",
       "      <td>0</td>\n",
       "      <td>0</td>\n",
       "      <td>0</td>\n",
       "      <td>0</td>\n",
       "      <td>0</td>\n",
       "      <td>0</td>\n",
       "      <td>1</td>\n",
       "      <td>0</td>\n",
       "      <td>0</td>\n",
       "      <td>0</td>\n",
       "      <td>0</td>\n",
       "      <td>0</td>\n",
       "      <td>0</td>\n",
       "      <td>0</td>\n",
       "      <td>0</td>\n",
       "      <td>1</td>\n",
       "      <td>0</td>\n",
       "      <td>0</td>\n",
       "      <td>0.0</td>\n",
       "      <td>0.0</td>\n",
       "      <td>0.0</td>\n",
       "      <td>0.0</td>\n",
       "      <td>0.0</td>\n",
       "      <td>0.0</td>\n",
       "      <td>1</td>\n",
       "      <td>0</td>\n",
       "      <td>1</td>\n",
       "    </tr>\n",
       "    <tr>\n",
       "      <th>2504</th>\n",
       "      <td>30</td>\n",
       "      <td>440.0</td>\n",
       "      <td>30404.0</td>\n",
       "      <td>0.0</td>\n",
       "      <td>880.0</td>\n",
       "      <td>150.0</td>\n",
       "      <td>430.0</td>\n",
       "      <td>0</td>\n",
       "      <td>0</td>\n",
       "      <td>1</td>\n",
       "      <td>0</td>\n",
       "      <td>0</td>\n",
       "      <td>0</td>\n",
       "      <td>0</td>\n",
       "      <td>2505</td>\n",
       "      <td>180000.0</td>\n",
       "      <td>0</td>\n",
       "      <td>0</td>\n",
       "      <td>1</td>\n",
       "      <td>0</td>\n",
       "      <td>1</td>\n",
       "      <td>0</td>\n",
       "      <td>0</td>\n",
       "      <td>0</td>\n",
       "      <td>0</td>\n",
       "      <td>0</td>\n",
       "      <td>0</td>\n",
       "      <td>0</td>\n",
       "      <td>0</td>\n",
       "      <td>0</td>\n",
       "      <td>0</td>\n",
       "      <td>1</td>\n",
       "      <td>0</td>\n",
       "      <td>0</td>\n",
       "      <td>0</td>\n",
       "      <td>0</td>\n",
       "      <td>0</td>\n",
       "      <td>0</td>\n",
       "      <td>0</td>\n",
       "      <td>0</td>\n",
       "      <td>0</td>\n",
       "      <td>0</td>\n",
       "      <td>1</td>\n",
       "      <td>0</td>\n",
       "      <td>0</td>\n",
       "      <td>0</td>\n",
       "      <td>0</td>\n",
       "      <td>0</td>\n",
       "      <td>0</td>\n",
       "      <td>0</td>\n",
       "      <td>0</td>\n",
       "      <td>0</td>\n",
       "      <td>0</td>\n",
       "      <td>1</td>\n",
       "      <td>0</td>\n",
       "      <td>0</td>\n",
       "      <td>0</td>\n",
       "      <td>0</td>\n",
       "      <td>0</td>\n",
       "      <td>0</td>\n",
       "      <td>0</td>\n",
       "      <td>0</td>\n",
       "      <td>0</td>\n",
       "      <td>0</td>\n",
       "      <td>1</td>\n",
       "      <td>0</td>\n",
       "      <td>0</td>\n",
       "      <td>0</td>\n",
       "      <td>0</td>\n",
       "      <td>0</td>\n",
       "      <td>0</td>\n",
       "      <td>0</td>\n",
       "      <td>0</td>\n",
       "      <td>0</td>\n",
       "      <td>1</td>\n",
       "      <td>0</td>\n",
       "      <td>0</td>\n",
       "      <td>0</td>\n",
       "      <td>0</td>\n",
       "      <td>0</td>\n",
       "      <td>0</td>\n",
       "      <td>0</td>\n",
       "      <td>0</td>\n",
       "      <td>0</td>\n",
       "      <td>30404.0</td>\n",
       "      <td>0.0</td>\n",
       "      <td>880.0</td>\n",
       "      <td>150.0</td>\n",
       "      <td>430.0</td>\n",
       "      <td>747.0</td>\n",
       "      <td>1</td>\n",
       "      <td>0</td>\n",
       "      <td>0</td>\n",
       "    </tr>\n",
       "    <tr>\n",
       "      <th>1111</th>\n",
       "      <td>44</td>\n",
       "      <td>3424.0</td>\n",
       "      <td>155.0</td>\n",
       "      <td>1922.0</td>\n",
       "      <td>1473.0</td>\n",
       "      <td>1865.0</td>\n",
       "      <td>835.0</td>\n",
       "      <td>0</td>\n",
       "      <td>0</td>\n",
       "      <td>0</td>\n",
       "      <td>1</td>\n",
       "      <td>0</td>\n",
       "      <td>0</td>\n",
       "      <td>0</td>\n",
       "      <td>1112</td>\n",
       "      <td>50000.0</td>\n",
       "      <td>0</td>\n",
       "      <td>1</td>\n",
       "      <td>0</td>\n",
       "      <td>0</td>\n",
       "      <td>1</td>\n",
       "      <td>0</td>\n",
       "      <td>0</td>\n",
       "      <td>0</td>\n",
       "      <td>0</td>\n",
       "      <td>0</td>\n",
       "      <td>0</td>\n",
       "      <td>0</td>\n",
       "      <td>0</td>\n",
       "      <td>0</td>\n",
       "      <td>0</td>\n",
       "      <td>1</td>\n",
       "      <td>0</td>\n",
       "      <td>0</td>\n",
       "      <td>0</td>\n",
       "      <td>0</td>\n",
       "      <td>0</td>\n",
       "      <td>0</td>\n",
       "      <td>0</td>\n",
       "      <td>0</td>\n",
       "      <td>0</td>\n",
       "      <td>0</td>\n",
       "      <td>1</td>\n",
       "      <td>0</td>\n",
       "      <td>0</td>\n",
       "      <td>0</td>\n",
       "      <td>0</td>\n",
       "      <td>0</td>\n",
       "      <td>0</td>\n",
       "      <td>0</td>\n",
       "      <td>0</td>\n",
       "      <td>0</td>\n",
       "      <td>0</td>\n",
       "      <td>1</td>\n",
       "      <td>0</td>\n",
       "      <td>0</td>\n",
       "      <td>0</td>\n",
       "      <td>0</td>\n",
       "      <td>0</td>\n",
       "      <td>0</td>\n",
       "      <td>0</td>\n",
       "      <td>0</td>\n",
       "      <td>0</td>\n",
       "      <td>0</td>\n",
       "      <td>1</td>\n",
       "      <td>0</td>\n",
       "      <td>0</td>\n",
       "      <td>0</td>\n",
       "      <td>0</td>\n",
       "      <td>0</td>\n",
       "      <td>0</td>\n",
       "      <td>0</td>\n",
       "      <td>0</td>\n",
       "      <td>0</td>\n",
       "      <td>1</td>\n",
       "      <td>0</td>\n",
       "      <td>0</td>\n",
       "      <td>0</td>\n",
       "      <td>0</td>\n",
       "      <td>0</td>\n",
       "      <td>0</td>\n",
       "      <td>0</td>\n",
       "      <td>0</td>\n",
       "      <td>0</td>\n",
       "      <td>155.0</td>\n",
       "      <td>1922.0</td>\n",
       "      <td>1473.0</td>\n",
       "      <td>1865.0</td>\n",
       "      <td>835.0</td>\n",
       "      <td>1833.0</td>\n",
       "      <td>0</td>\n",
       "      <td>1</td>\n",
       "      <td>0</td>\n",
       "    </tr>\n",
       "  </tbody>\n",
       "</table>\n",
       "</div>"
      ],
      "text/plain": [
       "       AGE  BILL_AMT1  BILL_AMT2  BILL_AMT3  BILL_AMT4  BILL_AMT5  BILL_AMT6  \\\n",
       "22659   48   175095.0   175522.0   173918.0   174074.0   178671.0   178869.0   \n",
       "6618    37     8788.0    40927.0    28306.0    31578.0    21195.0    11776.0   \n",
       "26605   23     2400.0     2400.0     2400.0     2400.0     2400.0     1800.0   \n",
       "2504    30      440.0    30404.0        0.0      880.0      150.0      430.0   \n",
       "1111    44     3424.0      155.0     1922.0     1473.0     1865.0      835.0   \n",
       "\n",
       "       EDUCATION_0  EDUCATION_1  EDUCATION_2  EDUCATION_3  EDUCATION_4  \\\n",
       "22659            0            0            0            1            0   \n",
       "6618             0            0            1            0            0   \n",
       "26605            0            0            1            0            0   \n",
       "2504             0            0            1            0            0   \n",
       "1111             0            0            0            1            0   \n",
       "\n",
       "       EDUCATION_5  EDUCATION_6     ID  LIMIT_BAL  MARRIAGE_0  MARRIAGE_1  \\\n",
       "22659            0            0  22660   150000.0           0           0   \n",
       "6618             0            0   6619   180000.0           0           0   \n",
       "26605            0            0  26606    20000.0           0           0   \n",
       "2504             0            0   2505   180000.0           0           0   \n",
       "1111             0            0   1112    50000.0           0           1   \n",
       "\n",
       "       MARRIAGE_2  MARRIAGE_3  PAY_0_-1  PAY_0_-2  PAY_0_0  PAY_0_1  PAY_0_2  \\\n",
       "22659           1           0         0         0        1        0        0   \n",
       "6618            1           0         1         0        0        0        0   \n",
       "26605           1           0         0         0        0        0        0   \n",
       "2504            1           0         1         0        0        0        0   \n",
       "1111            0           0         1         0        0        0        0   \n",
       "\n",
       "       PAY_0_3  PAY_0_4  PAY_0_5  PAY_0_6  PAY_0_7  PAY_0_8  PAY_2_-1  \\\n",
       "22659        0        0        0        0        0        0         0   \n",
       "6618         0        0        0        0        0        0         1   \n",
       "26605        1        0        0        0        0        0         0   \n",
       "2504         0        0        0        0        0        0         1   \n",
       "1111         0        0        0        0        0        0         1   \n",
       "\n",
       "       PAY_2_-2  PAY_2_0  PAY_2_1  PAY_2_2  PAY_2_3  PAY_2_4  PAY_2_5  \\\n",
       "22659         0        1        0        0        0        0        0   \n",
       "6618          0        0        0        0        0        0        0   \n",
       "26605         0        0        0        1        0        0        0   \n",
       "2504          0        0        0        0        0        0        0   \n",
       "1111          0        0        0        0        0        0        0   \n",
       "\n",
       "       PAY_2_6  PAY_2_7  PAY_2_8  PAY_3_-1  PAY_3_-2  PAY_3_0  PAY_3_1  \\\n",
       "22659        0        0        0         0         0        1        0   \n",
       "6618         0        0        0         0         0        1        0   \n",
       "26605        0        0        0         0         0        0        0   \n",
       "2504         0        0        0         1         0        0        0   \n",
       "1111         0        0        0         1         0        0        0   \n",
       "\n",
       "       PAY_3_2  PAY_3_3  PAY_3_4  PAY_3_5  PAY_3_6  PAY_3_7  PAY_3_8  \\\n",
       "22659        0        0        0        0        0        0        0   \n",
       "6618         0        0        0        0        0        0        0   \n",
       "26605        1        0        0        0        0        0        0   \n",
       "2504         0        0        0        0        0        0        0   \n",
       "1111         0        0        0        0        0        0        0   \n",
       "\n",
       "       PAY_4_-1  PAY_4_-2  PAY_4_0  PAY_4_1  PAY_4_2  PAY_4_3  PAY_4_4  \\\n",
       "22659         0         0        1        0        0        0        0   \n",
       "6618          0         0        1        0        0        0        0   \n",
       "26605         0         0        0        0        0        0        0   \n",
       "2504          1         0        0        0        0        0        0   \n",
       "1111          1         0        0        0        0        0        0   \n",
       "\n",
       "       PAY_4_5  PAY_4_6  PAY_4_7  PAY_4_8  PAY_5_-1  PAY_5_-2  PAY_5_0  \\\n",
       "22659        0        0        0        0         0         0        1   \n",
       "6618         0        0        0        0         0         0        1   \n",
       "26605        0        0        1        0         0         0        0   \n",
       "2504         0        0        0        0         1         0        0   \n",
       "1111         0        0        0        0         1         0        0   \n",
       "\n",
       "       PAY_5_2  PAY_5_3  PAY_5_4  PAY_5_5  PAY_5_6  PAY_5_7  PAY_5_8  \\\n",
       "22659        0        0        0        0        0        0        0   \n",
       "6618         0        0        0        0        0        0        0   \n",
       "26605        0        0        0        0        0        1        0   \n",
       "2504         0        0        0        0        0        0        0   \n",
       "1111         0        0        0        0        0        0        0   \n",
       "\n",
       "       PAY_6_-1  PAY_6_-2  PAY_6_0  PAY_6_2  PAY_6_3  PAY_6_4  PAY_6_5  \\\n",
       "22659         0         0        1        0        0        0        0   \n",
       "6618          1         0        0        0        0        0        0   \n",
       "26605         0         0        0        0        0        0        0   \n",
       "2504          1         0        0        0        0        0        0   \n",
       "1111          1         0        0        0        0        0        0   \n",
       "\n",
       "       PAY_6_6  PAY_6_7  PAY_6_8  PAY_AMT1  PAY_AMT2  PAY_AMT3  PAY_AMT4  \\\n",
       "22659        0        0        0   10011.0    6200.0    5874.0   10000.0   \n",
       "6618         0        0        0   40970.0    1210.0   10015.0   10009.0   \n",
       "26605        1        0        0       0.0       0.0       0.0       0.0   \n",
       "2504         0        0        0   30404.0       0.0     880.0     150.0   \n",
       "1111         0        0        0     155.0    1922.0    1473.0    1865.0   \n",
       "\n",
       "       PAY_AMT5  PAY_AMT6  SEX_1  SEX_2  default.payment.next.month  \n",
       "22659    6054.0    7108.0      0      1                           0  \n",
       "6618    11783.0  110306.0      1      0                           0  \n",
       "26605       0.0       0.0      1      0                           1  \n",
       "2504      430.0     747.0      1      0                           0  \n",
       "1111      835.0    1833.0      0      1                           0  "
      ]
     },
     "execution_count": 36,
     "metadata": {},
     "output_type": "execute_result"
    }
   ],
   "source": [
    "train_fa_df.head(5)"
   ]
  },
  {
   "cell_type": "code",
   "execution_count": 37,
   "metadata": {
    "_uuid": "b16124f36b0b874048fbb23047db99cd77e8f612"
   },
   "outputs": [
    {
     "data": {
      "text/html": [
       "<div>\n",
       "<style scoped>\n",
       "    .dataframe tbody tr th:only-of-type {\n",
       "        vertical-align: middle;\n",
       "    }\n",
       "\n",
       "    .dataframe tbody tr th {\n",
       "        vertical-align: top;\n",
       "    }\n",
       "\n",
       "    .dataframe thead th {\n",
       "        text-align: right;\n",
       "    }\n",
       "</style>\n",
       "<table border=\"1\" class=\"dataframe\">\n",
       "  <thead>\n",
       "    <tr style=\"text-align: right;\">\n",
       "      <th></th>\n",
       "      <th>AGE</th>\n",
       "      <th>BILL_AMT1</th>\n",
       "      <th>BILL_AMT2</th>\n",
       "      <th>BILL_AMT3</th>\n",
       "      <th>BILL_AMT4</th>\n",
       "      <th>BILL_AMT5</th>\n",
       "      <th>BILL_AMT6</th>\n",
       "      <th>EDUCATION_0</th>\n",
       "      <th>EDUCATION_1</th>\n",
       "      <th>EDUCATION_2</th>\n",
       "      <th>EDUCATION_3</th>\n",
       "      <th>EDUCATION_4</th>\n",
       "      <th>EDUCATION_5</th>\n",
       "      <th>EDUCATION_6</th>\n",
       "      <th>ID</th>\n",
       "      <th>LIMIT_BAL</th>\n",
       "      <th>MARRIAGE_0</th>\n",
       "      <th>MARRIAGE_1</th>\n",
       "      <th>MARRIAGE_2</th>\n",
       "      <th>MARRIAGE_3</th>\n",
       "      <th>PAY_0_-1</th>\n",
       "      <th>PAY_0_-2</th>\n",
       "      <th>PAY_0_0</th>\n",
       "      <th>PAY_0_1</th>\n",
       "      <th>PAY_0_2</th>\n",
       "      <th>PAY_0_3</th>\n",
       "      <th>PAY_0_4</th>\n",
       "      <th>PAY_0_5</th>\n",
       "      <th>PAY_0_6</th>\n",
       "      <th>PAY_0_7</th>\n",
       "      <th>PAY_0_8</th>\n",
       "      <th>PAY_2_-1</th>\n",
       "      <th>PAY_2_-2</th>\n",
       "      <th>PAY_2_0</th>\n",
       "      <th>PAY_2_1</th>\n",
       "      <th>PAY_2_2</th>\n",
       "      <th>PAY_2_3</th>\n",
       "      <th>PAY_2_4</th>\n",
       "      <th>PAY_2_5</th>\n",
       "      <th>PAY_2_6</th>\n",
       "      <th>PAY_2_7</th>\n",
       "      <th>PAY_2_8</th>\n",
       "      <th>PAY_3_-1</th>\n",
       "      <th>PAY_3_-2</th>\n",
       "      <th>PAY_3_0</th>\n",
       "      <th>PAY_3_1</th>\n",
       "      <th>PAY_3_2</th>\n",
       "      <th>PAY_3_3</th>\n",
       "      <th>PAY_3_4</th>\n",
       "      <th>PAY_3_5</th>\n",
       "      <th>PAY_3_6</th>\n",
       "      <th>PAY_3_7</th>\n",
       "      <th>PAY_3_8</th>\n",
       "      <th>PAY_4_-1</th>\n",
       "      <th>PAY_4_-2</th>\n",
       "      <th>PAY_4_0</th>\n",
       "      <th>PAY_4_1</th>\n",
       "      <th>PAY_4_2</th>\n",
       "      <th>PAY_4_3</th>\n",
       "      <th>PAY_4_4</th>\n",
       "      <th>PAY_4_5</th>\n",
       "      <th>PAY_4_6</th>\n",
       "      <th>PAY_4_7</th>\n",
       "      <th>PAY_4_8</th>\n",
       "      <th>PAY_5_-1</th>\n",
       "      <th>PAY_5_-2</th>\n",
       "      <th>PAY_5_0</th>\n",
       "      <th>PAY_5_2</th>\n",
       "      <th>PAY_5_3</th>\n",
       "      <th>PAY_5_4</th>\n",
       "      <th>PAY_5_5</th>\n",
       "      <th>PAY_5_6</th>\n",
       "      <th>PAY_5_7</th>\n",
       "      <th>PAY_5_8</th>\n",
       "      <th>PAY_6_-1</th>\n",
       "      <th>PAY_6_-2</th>\n",
       "      <th>PAY_6_0</th>\n",
       "      <th>PAY_6_2</th>\n",
       "      <th>PAY_6_3</th>\n",
       "      <th>PAY_6_4</th>\n",
       "      <th>PAY_6_5</th>\n",
       "      <th>PAY_6_6</th>\n",
       "      <th>PAY_6_7</th>\n",
       "      <th>PAY_6_8</th>\n",
       "      <th>PAY_AMT1</th>\n",
       "      <th>PAY_AMT2</th>\n",
       "      <th>PAY_AMT3</th>\n",
       "      <th>PAY_AMT4</th>\n",
       "      <th>PAY_AMT5</th>\n",
       "      <th>PAY_AMT6</th>\n",
       "      <th>SEX_1</th>\n",
       "      <th>SEX_2</th>\n",
       "      <th>default.payment.next.month</th>\n",
       "    </tr>\n",
       "  </thead>\n",
       "  <tbody>\n",
       "    <tr>\n",
       "      <th>8343</th>\n",
       "      <td>30</td>\n",
       "      <td>37522.0</td>\n",
       "      <td>38614.0</td>\n",
       "      <td>39671.0</td>\n",
       "      <td>40213.0</td>\n",
       "      <td>41064.0</td>\n",
       "      <td>43382.0</td>\n",
       "      <td>0</td>\n",
       "      <td>0</td>\n",
       "      <td>1</td>\n",
       "      <td>0</td>\n",
       "      <td>0</td>\n",
       "      <td>0</td>\n",
       "      <td>0</td>\n",
       "      <td>8344</td>\n",
       "      <td>50000.0</td>\n",
       "      <td>0</td>\n",
       "      <td>0</td>\n",
       "      <td>1</td>\n",
       "      <td>0</td>\n",
       "      <td>0</td>\n",
       "      <td>0</td>\n",
       "      <td>1</td>\n",
       "      <td>0</td>\n",
       "      <td>0</td>\n",
       "      <td>0</td>\n",
       "      <td>0</td>\n",
       "      <td>0</td>\n",
       "      <td>0</td>\n",
       "      <td>0</td>\n",
       "      <td>0</td>\n",
       "      <td>0</td>\n",
       "      <td>0</td>\n",
       "      <td>1</td>\n",
       "      <td>0</td>\n",
       "      <td>0</td>\n",
       "      <td>0</td>\n",
       "      <td>0</td>\n",
       "      <td>0</td>\n",
       "      <td>0</td>\n",
       "      <td>0</td>\n",
       "      <td>0</td>\n",
       "      <td>0</td>\n",
       "      <td>0</td>\n",
       "      <td>1</td>\n",
       "      <td>0</td>\n",
       "      <td>0</td>\n",
       "      <td>0</td>\n",
       "      <td>0</td>\n",
       "      <td>0</td>\n",
       "      <td>0</td>\n",
       "      <td>0</td>\n",
       "      <td>0</td>\n",
       "      <td>0</td>\n",
       "      <td>0</td>\n",
       "      <td>1</td>\n",
       "      <td>0</td>\n",
       "      <td>0</td>\n",
       "      <td>0</td>\n",
       "      <td>0</td>\n",
       "      <td>0</td>\n",
       "      <td>0</td>\n",
       "      <td>0</td>\n",
       "      <td>0</td>\n",
       "      <td>0</td>\n",
       "      <td>0</td>\n",
       "      <td>1</td>\n",
       "      <td>0</td>\n",
       "      <td>0</td>\n",
       "      <td>0</td>\n",
       "      <td>0</td>\n",
       "      <td>0</td>\n",
       "      <td>0</td>\n",
       "      <td>0</td>\n",
       "      <td>0</td>\n",
       "      <td>0</td>\n",
       "      <td>1</td>\n",
       "      <td>0</td>\n",
       "      <td>0</td>\n",
       "      <td>0</td>\n",
       "      <td>0</td>\n",
       "      <td>0</td>\n",
       "      <td>0</td>\n",
       "      <td>0</td>\n",
       "      <td>2000.0</td>\n",
       "      <td>2000.0</td>\n",
       "      <td>1500.0</td>\n",
       "      <td>1500.0</td>\n",
       "      <td>3000.0</td>\n",
       "      <td>2000.0</td>\n",
       "      <td>0</td>\n",
       "      <td>1</td>\n",
       "      <td>0</td>\n",
       "    </tr>\n",
       "    <tr>\n",
       "      <th>2228</th>\n",
       "      <td>29</td>\n",
       "      <td>53274.0</td>\n",
       "      <td>54093.0</td>\n",
       "      <td>53111.0</td>\n",
       "      <td>50568.0</td>\n",
       "      <td>47791.0</td>\n",
       "      <td>45421.0</td>\n",
       "      <td>0</td>\n",
       "      <td>0</td>\n",
       "      <td>1</td>\n",
       "      <td>0</td>\n",
       "      <td>0</td>\n",
       "      <td>0</td>\n",
       "      <td>0</td>\n",
       "      <td>2229</td>\n",
       "      <td>60000.0</td>\n",
       "      <td>0</td>\n",
       "      <td>0</td>\n",
       "      <td>1</td>\n",
       "      <td>0</td>\n",
       "      <td>0</td>\n",
       "      <td>0</td>\n",
       "      <td>1</td>\n",
       "      <td>0</td>\n",
       "      <td>0</td>\n",
       "      <td>0</td>\n",
       "      <td>0</td>\n",
       "      <td>0</td>\n",
       "      <td>0</td>\n",
       "      <td>0</td>\n",
       "      <td>0</td>\n",
       "      <td>0</td>\n",
       "      <td>0</td>\n",
       "      <td>1</td>\n",
       "      <td>0</td>\n",
       "      <td>0</td>\n",
       "      <td>0</td>\n",
       "      <td>0</td>\n",
       "      <td>0</td>\n",
       "      <td>0</td>\n",
       "      <td>0</td>\n",
       "      <td>0</td>\n",
       "      <td>0</td>\n",
       "      <td>0</td>\n",
       "      <td>1</td>\n",
       "      <td>0</td>\n",
       "      <td>0</td>\n",
       "      <td>0</td>\n",
       "      <td>0</td>\n",
       "      <td>0</td>\n",
       "      <td>0</td>\n",
       "      <td>0</td>\n",
       "      <td>0</td>\n",
       "      <td>0</td>\n",
       "      <td>0</td>\n",
       "      <td>1</td>\n",
       "      <td>0</td>\n",
       "      <td>0</td>\n",
       "      <td>0</td>\n",
       "      <td>0</td>\n",
       "      <td>0</td>\n",
       "      <td>0</td>\n",
       "      <td>0</td>\n",
       "      <td>0</td>\n",
       "      <td>0</td>\n",
       "      <td>0</td>\n",
       "      <td>1</td>\n",
       "      <td>0</td>\n",
       "      <td>0</td>\n",
       "      <td>0</td>\n",
       "      <td>0</td>\n",
       "      <td>0</td>\n",
       "      <td>0</td>\n",
       "      <td>0</td>\n",
       "      <td>0</td>\n",
       "      <td>0</td>\n",
       "      <td>1</td>\n",
       "      <td>0</td>\n",
       "      <td>0</td>\n",
       "      <td>0</td>\n",
       "      <td>0</td>\n",
       "      <td>0</td>\n",
       "      <td>0</td>\n",
       "      <td>0</td>\n",
       "      <td>2591.0</td>\n",
       "      <td>2109.0</td>\n",
       "      <td>1705.0</td>\n",
       "      <td>2010.0</td>\n",
       "      <td>2000.0</td>\n",
       "      <td>1523.0</td>\n",
       "      <td>0</td>\n",
       "      <td>1</td>\n",
       "      <td>0</td>\n",
       "    </tr>\n",
       "    <tr>\n",
       "      <th>6293</th>\n",
       "      <td>55</td>\n",
       "      <td>2326.0</td>\n",
       "      <td>4917.0</td>\n",
       "      <td>4906.0</td>\n",
       "      <td>4707.0</td>\n",
       "      <td>2254.0</td>\n",
       "      <td>5375.0</td>\n",
       "      <td>0</td>\n",
       "      <td>1</td>\n",
       "      <td>0</td>\n",
       "      <td>0</td>\n",
       "      <td>0</td>\n",
       "      <td>0</td>\n",
       "      <td>0</td>\n",
       "      <td>6294</td>\n",
       "      <td>280000.0</td>\n",
       "      <td>0</td>\n",
       "      <td>1</td>\n",
       "      <td>0</td>\n",
       "      <td>0</td>\n",
       "      <td>1</td>\n",
       "      <td>0</td>\n",
       "      <td>0</td>\n",
       "      <td>0</td>\n",
       "      <td>0</td>\n",
       "      <td>0</td>\n",
       "      <td>0</td>\n",
       "      <td>0</td>\n",
       "      <td>0</td>\n",
       "      <td>0</td>\n",
       "      <td>0</td>\n",
       "      <td>1</td>\n",
       "      <td>0</td>\n",
       "      <td>0</td>\n",
       "      <td>0</td>\n",
       "      <td>0</td>\n",
       "      <td>0</td>\n",
       "      <td>0</td>\n",
       "      <td>0</td>\n",
       "      <td>0</td>\n",
       "      <td>0</td>\n",
       "      <td>0</td>\n",
       "      <td>0</td>\n",
       "      <td>0</td>\n",
       "      <td>1</td>\n",
       "      <td>0</td>\n",
       "      <td>0</td>\n",
       "      <td>0</td>\n",
       "      <td>0</td>\n",
       "      <td>0</td>\n",
       "      <td>0</td>\n",
       "      <td>0</td>\n",
       "      <td>0</td>\n",
       "      <td>0</td>\n",
       "      <td>0</td>\n",
       "      <td>1</td>\n",
       "      <td>0</td>\n",
       "      <td>0</td>\n",
       "      <td>0</td>\n",
       "      <td>0</td>\n",
       "      <td>0</td>\n",
       "      <td>0</td>\n",
       "      <td>0</td>\n",
       "      <td>0</td>\n",
       "      <td>0</td>\n",
       "      <td>0</td>\n",
       "      <td>0</td>\n",
       "      <td>1</td>\n",
       "      <td>0</td>\n",
       "      <td>0</td>\n",
       "      <td>0</td>\n",
       "      <td>0</td>\n",
       "      <td>0</td>\n",
       "      <td>0</td>\n",
       "      <td>1</td>\n",
       "      <td>0</td>\n",
       "      <td>0</td>\n",
       "      <td>0</td>\n",
       "      <td>0</td>\n",
       "      <td>0</td>\n",
       "      <td>0</td>\n",
       "      <td>0</td>\n",
       "      <td>0</td>\n",
       "      <td>0</td>\n",
       "      <td>4917.0</td>\n",
       "      <td>2453.0</td>\n",
       "      <td>2254.0</td>\n",
       "      <td>0.0</td>\n",
       "      <td>5375.0</td>\n",
       "      <td>1165.0</td>\n",
       "      <td>1</td>\n",
       "      <td>0</td>\n",
       "      <td>0</td>\n",
       "    </tr>\n",
       "    <tr>\n",
       "      <th>16805</th>\n",
       "      <td>43</td>\n",
       "      <td>4166.0</td>\n",
       "      <td>4166.0</td>\n",
       "      <td>4216.0</td>\n",
       "      <td>4166.0</td>\n",
       "      <td>4166.0</td>\n",
       "      <td>4166.0</td>\n",
       "      <td>0</td>\n",
       "      <td>0</td>\n",
       "      <td>0</td>\n",
       "      <td>1</td>\n",
       "      <td>0</td>\n",
       "      <td>0</td>\n",
       "      <td>0</td>\n",
       "      <td>16806</td>\n",
       "      <td>50000.0</td>\n",
       "      <td>0</td>\n",
       "      <td>0</td>\n",
       "      <td>1</td>\n",
       "      <td>0</td>\n",
       "      <td>1</td>\n",
       "      <td>0</td>\n",
       "      <td>0</td>\n",
       "      <td>0</td>\n",
       "      <td>0</td>\n",
       "      <td>0</td>\n",
       "      <td>0</td>\n",
       "      <td>0</td>\n",
       "      <td>0</td>\n",
       "      <td>0</td>\n",
       "      <td>0</td>\n",
       "      <td>1</td>\n",
       "      <td>0</td>\n",
       "      <td>0</td>\n",
       "      <td>0</td>\n",
       "      <td>0</td>\n",
       "      <td>0</td>\n",
       "      <td>0</td>\n",
       "      <td>0</td>\n",
       "      <td>0</td>\n",
       "      <td>0</td>\n",
       "      <td>0</td>\n",
       "      <td>1</td>\n",
       "      <td>0</td>\n",
       "      <td>0</td>\n",
       "      <td>0</td>\n",
       "      <td>0</td>\n",
       "      <td>0</td>\n",
       "      <td>0</td>\n",
       "      <td>0</td>\n",
       "      <td>0</td>\n",
       "      <td>0</td>\n",
       "      <td>0</td>\n",
       "      <td>0</td>\n",
       "      <td>0</td>\n",
       "      <td>1</td>\n",
       "      <td>0</td>\n",
       "      <td>0</td>\n",
       "      <td>0</td>\n",
       "      <td>0</td>\n",
       "      <td>0</td>\n",
       "      <td>0</td>\n",
       "      <td>0</td>\n",
       "      <td>0</td>\n",
       "      <td>1</td>\n",
       "      <td>0</td>\n",
       "      <td>0</td>\n",
       "      <td>0</td>\n",
       "      <td>0</td>\n",
       "      <td>0</td>\n",
       "      <td>0</td>\n",
       "      <td>0</td>\n",
       "      <td>0</td>\n",
       "      <td>0</td>\n",
       "      <td>1</td>\n",
       "      <td>0</td>\n",
       "      <td>0</td>\n",
       "      <td>0</td>\n",
       "      <td>0</td>\n",
       "      <td>0</td>\n",
       "      <td>0</td>\n",
       "      <td>0</td>\n",
       "      <td>0</td>\n",
       "      <td>0</td>\n",
       "      <td>4166.0</td>\n",
       "      <td>4216.0</td>\n",
       "      <td>4116.0</td>\n",
       "      <td>4166.0</td>\n",
       "      <td>4166.0</td>\n",
       "      <td>4166.0</td>\n",
       "      <td>1</td>\n",
       "      <td>0</td>\n",
       "      <td>0</td>\n",
       "    </tr>\n",
       "    <tr>\n",
       "      <th>3519</th>\n",
       "      <td>34</td>\n",
       "      <td>383973.0</td>\n",
       "      <td>380082.0</td>\n",
       "      <td>389694.0</td>\n",
       "      <td>342198.0</td>\n",
       "      <td>344808.0</td>\n",
       "      <td>347188.0</td>\n",
       "      <td>0</td>\n",
       "      <td>0</td>\n",
       "      <td>1</td>\n",
       "      <td>0</td>\n",
       "      <td>0</td>\n",
       "      <td>0</td>\n",
       "      <td>0</td>\n",
       "      <td>3520</td>\n",
       "      <td>550000.0</td>\n",
       "      <td>0</td>\n",
       "      <td>1</td>\n",
       "      <td>0</td>\n",
       "      <td>0</td>\n",
       "      <td>0</td>\n",
       "      <td>0</td>\n",
       "      <td>1</td>\n",
       "      <td>0</td>\n",
       "      <td>0</td>\n",
       "      <td>0</td>\n",
       "      <td>0</td>\n",
       "      <td>0</td>\n",
       "      <td>0</td>\n",
       "      <td>0</td>\n",
       "      <td>0</td>\n",
       "      <td>0</td>\n",
       "      <td>0</td>\n",
       "      <td>1</td>\n",
       "      <td>0</td>\n",
       "      <td>0</td>\n",
       "      <td>0</td>\n",
       "      <td>0</td>\n",
       "      <td>0</td>\n",
       "      <td>0</td>\n",
       "      <td>0</td>\n",
       "      <td>0</td>\n",
       "      <td>0</td>\n",
       "      <td>0</td>\n",
       "      <td>1</td>\n",
       "      <td>0</td>\n",
       "      <td>0</td>\n",
       "      <td>0</td>\n",
       "      <td>0</td>\n",
       "      <td>0</td>\n",
       "      <td>0</td>\n",
       "      <td>0</td>\n",
       "      <td>0</td>\n",
       "      <td>0</td>\n",
       "      <td>0</td>\n",
       "      <td>1</td>\n",
       "      <td>0</td>\n",
       "      <td>0</td>\n",
       "      <td>0</td>\n",
       "      <td>0</td>\n",
       "      <td>0</td>\n",
       "      <td>0</td>\n",
       "      <td>0</td>\n",
       "      <td>0</td>\n",
       "      <td>0</td>\n",
       "      <td>0</td>\n",
       "      <td>1</td>\n",
       "      <td>0</td>\n",
       "      <td>0</td>\n",
       "      <td>0</td>\n",
       "      <td>0</td>\n",
       "      <td>0</td>\n",
       "      <td>0</td>\n",
       "      <td>0</td>\n",
       "      <td>0</td>\n",
       "      <td>0</td>\n",
       "      <td>1</td>\n",
       "      <td>0</td>\n",
       "      <td>0</td>\n",
       "      <td>0</td>\n",
       "      <td>0</td>\n",
       "      <td>0</td>\n",
       "      <td>0</td>\n",
       "      <td>0</td>\n",
       "      <td>15000.0</td>\n",
       "      <td>20000.0</td>\n",
       "      <td>20000.0</td>\n",
       "      <td>12000.0</td>\n",
       "      <td>12000.0</td>\n",
       "      <td>13000.0</td>\n",
       "      <td>0</td>\n",
       "      <td>1</td>\n",
       "      <td>0</td>\n",
       "    </tr>\n",
       "  </tbody>\n",
       "</table>\n",
       "</div>"
      ],
      "text/plain": [
       "       AGE  BILL_AMT1  BILL_AMT2  BILL_AMT3  BILL_AMT4  BILL_AMT5  BILL_AMT6  \\\n",
       "8343    30    37522.0    38614.0    39671.0    40213.0    41064.0    43382.0   \n",
       "2228    29    53274.0    54093.0    53111.0    50568.0    47791.0    45421.0   \n",
       "6293    55     2326.0     4917.0     4906.0     4707.0     2254.0     5375.0   \n",
       "16805   43     4166.0     4166.0     4216.0     4166.0     4166.0     4166.0   \n",
       "3519    34   383973.0   380082.0   389694.0   342198.0   344808.0   347188.0   \n",
       "\n",
       "       EDUCATION_0  EDUCATION_1  EDUCATION_2  EDUCATION_3  EDUCATION_4  \\\n",
       "8343             0            0            1            0            0   \n",
       "2228             0            0            1            0            0   \n",
       "6293             0            1            0            0            0   \n",
       "16805            0            0            0            1            0   \n",
       "3519             0            0            1            0            0   \n",
       "\n",
       "       EDUCATION_5  EDUCATION_6     ID  LIMIT_BAL  MARRIAGE_0  MARRIAGE_1  \\\n",
       "8343             0            0   8344    50000.0           0           0   \n",
       "2228             0            0   2229    60000.0           0           0   \n",
       "6293             0            0   6294   280000.0           0           1   \n",
       "16805            0            0  16806    50000.0           0           0   \n",
       "3519             0            0   3520   550000.0           0           1   \n",
       "\n",
       "       MARRIAGE_2  MARRIAGE_3  PAY_0_-1  PAY_0_-2  PAY_0_0  PAY_0_1  PAY_0_2  \\\n",
       "8343            1           0         0         0        1        0        0   \n",
       "2228            1           0         0         0        1        0        0   \n",
       "6293            0           0         1         0        0        0        0   \n",
       "16805           1           0         1         0        0        0        0   \n",
       "3519            0           0         0         0        1        0        0   \n",
       "\n",
       "       PAY_0_3  PAY_0_4  PAY_0_5  PAY_0_6  PAY_0_7  PAY_0_8  PAY_2_-1  \\\n",
       "8343         0        0        0        0        0        0         0   \n",
       "2228         0        0        0        0        0        0         0   \n",
       "6293         0        0        0        0        0        0         1   \n",
       "16805        0        0        0        0        0        0         1   \n",
       "3519         0        0        0        0        0        0         0   \n",
       "\n",
       "       PAY_2_-2  PAY_2_0  PAY_2_1  PAY_2_2  PAY_2_3  PAY_2_4  PAY_2_5  \\\n",
       "8343          0        1        0        0        0        0        0   \n",
       "2228          0        1        0        0        0        0        0   \n",
       "6293          0        0        0        0        0        0        0   \n",
       "16805         0        0        0        0        0        0        0   \n",
       "3519          0        1        0        0        0        0        0   \n",
       "\n",
       "       PAY_2_6  PAY_2_7  PAY_2_8  PAY_3_-1  PAY_3_-2  PAY_3_0  PAY_3_1  \\\n",
       "8343         0        0        0         0         0        1        0   \n",
       "2228         0        0        0         0         0        1        0   \n",
       "6293         0        0        0         0         0        1        0   \n",
       "16805        0        0        0         1         0        0        0   \n",
       "3519         0        0        0         0         0        1        0   \n",
       "\n",
       "       PAY_3_2  PAY_3_3  PAY_3_4  PAY_3_5  PAY_3_6  PAY_3_7  PAY_3_8  \\\n",
       "8343         0        0        0        0        0        0        0   \n",
       "2228         0        0        0        0        0        0        0   \n",
       "6293         0        0        0        0        0        0        0   \n",
       "16805        0        0        0        0        0        0        0   \n",
       "3519         0        0        0        0        0        0        0   \n",
       "\n",
       "       PAY_4_-1  PAY_4_-2  PAY_4_0  PAY_4_1  PAY_4_2  PAY_4_3  PAY_4_4  \\\n",
       "8343          0         0        1        0        0        0        0   \n",
       "2228          0         0        1        0        0        0        0   \n",
       "6293          0         0        1        0        0        0        0   \n",
       "16805         0         0        1        0        0        0        0   \n",
       "3519          0         0        1        0        0        0        0   \n",
       "\n",
       "       PAY_4_5  PAY_4_6  PAY_4_7  PAY_4_8  PAY_5_-1  PAY_5_-2  PAY_5_0  \\\n",
       "8343         0        0        0        0         0         0        1   \n",
       "2228         0        0        0        0         0         0        1   \n",
       "6293         0        0        0        0         0         0        0   \n",
       "16805        0        0        0        0         1         0        0   \n",
       "3519         0        0        0        0         0         0        1   \n",
       "\n",
       "       PAY_5_2  PAY_5_3  PAY_5_4  PAY_5_5  PAY_5_6  PAY_5_7  PAY_5_8  \\\n",
       "8343         0        0        0        0        0        0        0   \n",
       "2228         0        0        0        0        0        0        0   \n",
       "6293         1        0        0        0        0        0        0   \n",
       "16805        0        0        0        0        0        0        0   \n",
       "3519         0        0        0        0        0        0        0   \n",
       "\n",
       "       PAY_6_-1  PAY_6_-2  PAY_6_0  PAY_6_2  PAY_6_3  PAY_6_4  PAY_6_5  \\\n",
       "8343          0         0        1        0        0        0        0   \n",
       "2228          0         0        1        0        0        0        0   \n",
       "6293          1         0        0        0        0        0        0   \n",
       "16805         1         0        0        0        0        0        0   \n",
       "3519          0         0        1        0        0        0        0   \n",
       "\n",
       "       PAY_6_6  PAY_6_7  PAY_6_8  PAY_AMT1  PAY_AMT2  PAY_AMT3  PAY_AMT4  \\\n",
       "8343         0        0        0    2000.0    2000.0    1500.0    1500.0   \n",
       "2228         0        0        0    2591.0    2109.0    1705.0    2010.0   \n",
       "6293         0        0        0    4917.0    2453.0    2254.0       0.0   \n",
       "16805        0        0        0    4166.0    4216.0    4116.0    4166.0   \n",
       "3519         0        0        0   15000.0   20000.0   20000.0   12000.0   \n",
       "\n",
       "       PAY_AMT5  PAY_AMT6  SEX_1  SEX_2  default.payment.next.month  \n",
       "8343     3000.0    2000.0      0      1                           0  \n",
       "2228     2000.0    1523.0      0      1                           0  \n",
       "6293     5375.0    1165.0      1      0                           0  \n",
       "16805    4166.0    4166.0      1      0                           0  \n",
       "3519    12000.0   13000.0      0      1                           0  "
      ]
     },
     "execution_count": 37,
     "metadata": {},
     "output_type": "execute_result"
    }
   ],
   "source": [
    "val_fa_df.head(5)"
   ]
  },
  {
   "cell_type": "markdown",
   "metadata": {
    "_uuid": "1eedb88befc2cf7d65058678a14065501cf7b113"
   },
   "source": [
    "Menententukan daftar target dan prediktor."
   ]
  },
  {
   "cell_type": "code",
   "execution_count": 38,
   "metadata": {
    "_uuid": "6abb7d724ee1f8436dd1f0d929ef7d817a74a302"
   },
   "outputs": [],
   "source": [
    "target_f = 'default.payment.next.month'\n",
    "predictors_f = ['AGE', 'BILL_AMT1', 'BILL_AMT2', 'BILL_AMT3', 'BILL_AMT4',\n",
    "       'BILL_AMT5', 'BILL_AMT6', 'EDUCATION_0', 'EDUCATION_1',\n",
    "       'EDUCATION_2', 'EDUCATION_3', 'EDUCATION_4', 'EDUCATION_5',\n",
    "       'EDUCATION_6', 'LIMIT_BAL', 'MARRIAGE_0', 'MARRIAGE_1',\n",
    "       'MARRIAGE_2', 'MARRIAGE_3', 'PAY_0_-1', 'PAY_0_-2', 'PAY_0_0',\n",
    "       'PAY_0_1', 'PAY_0_2', 'PAY_0_3', 'PAY_0_4', 'PAY_0_5', 'PAY_0_6',\n",
    "       'PAY_0_7', 'PAY_0_8', 'PAY_2_-1', 'PAY_2_-2', 'PAY_2_0', 'PAY_2_1',\n",
    "       'PAY_2_2', 'PAY_2_3', 'PAY_2_4', 'PAY_2_5', 'PAY_2_6', 'PAY_2_7',\n",
    "       'PAY_2_8', 'PAY_3_-1', 'PAY_3_-2', 'PAY_3_0', 'PAY_3_1', 'PAY_3_2',\n",
    "       'PAY_3_3', 'PAY_3_4', 'PAY_3_5', 'PAY_3_6', 'PAY_3_7', 'PAY_3_8',\n",
    "       'PAY_4_-1', 'PAY_4_-2', 'PAY_4_0', 'PAY_4_1', 'PAY_4_2', 'PAY_4_3',\n",
    "       'PAY_4_4', 'PAY_4_5', 'PAY_4_6', 'PAY_4_7', 'PAY_4_8', 'PAY_5_-1',\n",
    "       'PAY_5_-2', 'PAY_5_0', 'PAY_5_2', 'PAY_5_3', 'PAY_5_4', 'PAY_5_5',\n",
    "       'PAY_5_6', 'PAY_5_7', 'PAY_5_8', 'PAY_6_-1', 'PAY_6_-2', 'PAY_6_0',\n",
    "       'PAY_6_2', 'PAY_6_3', 'PAY_6_4', 'PAY_6_5', 'PAY_6_6', 'PAY_6_7',\n",
    "       'PAY_6_8', 'PAY_AMT1', 'PAY_AMT2', 'PAY_AMT3', 'PAY_AMT4',\n",
    "       'PAY_AMT5', 'PAY_AMT6', 'SEX_1', 'SEX_2']"
   ]
  },
  {
   "cell_type": "markdown",
   "metadata": {
    "_uuid": "95a702391e3c21dc91fe1e54da4b90de4dcdd561"
   },
   "source": [
    "Melatih **Randon Forest Classifier** menggunakan **train_fa_df** data dan fungsi **fit**."
   ]
  },
  {
   "cell_type": "code",
   "execution_count": 39,
   "metadata": {
    "_uuid": "d937c07225cef0c88c119679c90401b489560247"
   },
   "outputs": [
    {
     "data": {
      "text/plain": [
       "RandomForestClassifier(n_jobs=4, random_state=2018, verbose=False)"
      ]
     },
     "execution_count": 39,
     "metadata": {},
     "output_type": "execute_result"
    }
   ],
   "source": [
    "clf.fit(train_fa_df[predictors_f], train_df[target_f].values)"
   ]
  },
  {
   "cell_type": "markdown",
   "metadata": {
    "_uuid": "10401c7839bdb93a1f4e30105ce50ae25ffb7578"
   },
   "source": [
    "Berikut memprediksi nilai **target** untuk **val_df** data, menggunakan fungsi **predict**."
   ]
  },
  {
   "cell_type": "code",
   "execution_count": 40,
   "metadata": {
    "_uuid": "2701d486cbf5e2d057d5c99b83e13df082edf7d2"
   },
   "outputs": [],
   "source": [
    "preds = clf.predict(val_fa_df[predictors_f])"
   ]
  },
  {
   "cell_type": "markdown",
   "metadata": {
    "_uuid": "f6037237305387f0898ea2c2c086be4a4f55dba5"
   },
   "source": [
    "Memvisualisasikan fitur penting.\n",
    "\n",
    "### Features importance"
   ]
  },
  {
   "cell_type": "code",
   "execution_count": 41,
   "metadata": {
    "_uuid": "54c08e38ff34f2c79e3d656cd5e5378c6289ded2"
   },
   "outputs": [
    {
     "data": {
      "image/png": "[encoded data removed]",
      "text/plain": [
       "<Figure size 1152x288 with 1 Axes>"
      ]
     },
     "metadata": {
      "needs_background": "light"
     },
     "output_type": "display_data"
    }
   ],
   "source": [
    "tmp = pd.DataFrame({'Feature': predictors_f, 'Feature importance': clf.feature_importances_})\n",
    "tmp = tmp.sort_values(by='Feature importance',ascending=False)\n",
    "plt.figure(figsize = (16,4))\n",
    "plt.title('Features importance',fontsize=14)\n",
    "s = sns.barplot(x='Feature',y='Feature importance',data=tmp)\n",
    "s.set_xticklabels(s.get_xticklabels(),rotation=90)\n",
    "plt.show()"
   ]
  },
  {
   "cell_type": "markdown",
   "metadata": {
    "_uuid": "058f244b751884360cbc9ba27c7eec842131f8ac"
   },
   "source": [
    "Fitur yang paling penting adalah **AGE**, **LIMIT_BAL**, **BILL_AMT1**, **PAY_0_2**, **BILL_AMT2**, **BILL_AMT3**."
   ]
  },
  {
   "cell_type": "markdown",
   "metadata": {
    "_uuid": "81f3ff9013ac7f6c7a0c9c06e0ad746b6d056901"
   },
   "source": [
    "### Matriks keputusan\n",
    "\n",
    "Tunjukkan matriks keputusan untuk hasil yang diperoleh."
   ]
  },
  {
   "cell_type": "code",
   "execution_count": 42,
   "metadata": {
    "_uuid": "2b7630b8a1f47a7bc9e6736d082baf05686024f1"
   },
   "outputs": [
    {
     "data": {
      "image/png": "[encoded data removed]",
      "text/plain": [
       "<Figure size 360x360 with 2 Axes>"
      ]
     },
     "metadata": {
      "needs_background": "light"
     },
     "output_type": "display_data"
    }
   ],
   "source": [
    "cm = pd.crosstab(val_fa_df[target].values, preds, rownames=['Actual'], colnames=['Predicted'])\n",
    "fig, (ax1) = plt.subplots(ncols=1, figsize=(5,5))\n",
    "sns.heatmap(cm, \n",
    "            xticklabels=['Not Default', 'Default'],\n",
    "            yticklabels=['Not Default', 'Default'],\n",
    "            annot=True,ax=ax1,\n",
    "            linewidths=.2,linecolor=\"Darkblue\", cmap=\"Blues\")\n",
    "plt.title('Confusion Matrix', fontsize=14)\n",
    "plt.show()"
   ]
  },
  {
   "cell_type": "markdown",
   "metadata": {
    "_uuid": "40d1a49db28a58945c7ed3eab78f14e692c62c6a"
   },
   "source": [
    "Dapat juga dilakukan dengan menghitung persentasi area di bawah kurva sebagai berikut:"
   ]
  },
  {
   "cell_type": "code",
   "execution_count": 43,
   "metadata": {
    "_uuid": "74b9bf529b8664712eb2b7ba507542c415e00d3a"
   },
   "outputs": [
    {
     "data": {
      "text/plain": [
       "0.6667660736878931"
      ]
     },
     "execution_count": 43,
     "metadata": {},
     "output_type": "execute_result"
    }
   ],
   "source": [
    "roc_auc_score(val_fa_df[target].values, preds)"
   ]
  },
  {
   "cell_type": "markdown",
   "metadata": {
    "_uuid": "adf17e8c4a11913d8f24621f5282614cf9d4830c"
   },
   "source": [
    "Dengan variabel tambahan (dummified), peningkatan skor AUC cukup kecil."
   ]
  },
  {
   "cell_type": "markdown",
   "metadata": {
    "_uuid": "b0f2b7b2d62223ec37b0becfe081bc35e3789ad8"
   },
   "source": [
    "## <a id=\"65\">AdaBoostClassifier</a>\n",
    "\n",
    "\n",
    "AdaBoostClassifier singkatan dari Adaptive Boosting Classifier <a href='#8'>[5]</a>.\n",
    "\n",
    "### Siapkan modelnya\n",
    "\n",
    "Membentuk parameter untuk pemodelan dan menginisialisasi model."
   ]
  },
  {
   "cell_type": "code",
   "execution_count": 44,
   "metadata": {
    "_uuid": "04ba514604f185810b46d08e57668f5d82c14bf8"
   },
   "outputs": [],
   "source": [
    "clf = AdaBoostClassifier(random_state=RANDOM_STATE,\n",
    "                         algorithm='SAMME.R',\n",
    "                         learning_rate=0.8,\n",
    "                             n_estimators=NUM_ESTIMATORS)"
   ]
  },
  {
   "cell_type": "markdown",
   "metadata": {
    "_uuid": "d619b89602a5dbef44f2d752c779c3b1d998db62"
   },
   "source": [
    "### Fit model\n",
    "\n",
    "Mari kita muat modelnya."
   ]
  },
  {
   "cell_type": "code",
   "execution_count": 45,
   "metadata": {
    "_uuid": "52c97b1ed3a3a5db39827b87eaa4523d28b8b5f6"
   },
   "outputs": [
    {
     "data": {
      "text/plain": [
       "AdaBoostClassifier(learning_rate=0.8, n_estimators=100, random_state=2018)"
      ]
     },
     "execution_count": 45,
     "metadata": {},
     "output_type": "execute_result"
    }
   ],
   "source": [
    "clf.fit(train_df[predictors], train_df[target].values)"
   ]
  },
  {
   "cell_type": "markdown",
   "metadata": {
    "_uuid": "ee1dc0b29db6747bc133c720fd43afd12bfb9eb2"
   },
   "source": [
    "### Memprediksi nilai target\n",
    "\n",
    "Sekarang dilakukan prediksi nilai **target** untuk **val_df** data, menggunakan fungsi prediksi."
   ]
  },
  {
   "cell_type": "code",
   "execution_count": 46,
   "metadata": {
    "_uuid": "d0f0c05bccb56fc69f0777aa80623573a84b2414"
   },
   "outputs": [],
   "source": [
    "preds = clf.predict(val_df[predictors])"
   ]
  },
  {
   "cell_type": "markdown",
   "metadata": {
    "_uuid": "69e03f4472f2a90b4a5d4ed8ac65c69b15492dcf"
   },
   "source": [
    "### Varibel Pengaruh\n",
    "\n",
    "Berikut diperlihatkan Variabel yang paling mempengaruhi;"
   ]
  },
  {
   "cell_type": "code",
   "execution_count": 47,
   "metadata": {
    "_uuid": "6313daaebfc29b2b4bbe4f2d550c3db2ef1ee88e"
   },
   "outputs": [
    {
     "data": {
      "image/png": "[encoded data removed]",
      "text/plain": [
       "<Figure size 504x288 with 1 Axes>"
      ]
     },
     "metadata": {
      "needs_background": "light"
     },
     "output_type": "display_data"
    }
   ],
   "source": [
    "tmp = pd.DataFrame({'Feature': predictors, 'Feature importance': clf.feature_importances_})\n",
    "tmp = tmp.sort_values(by='Feature importance',ascending=False)\n",
    "plt.figure(figsize = (7,4))\n",
    "plt.title('Features importance',fontsize=14)\n",
    "s = sns.barplot(x='Feature',y='Feature importance',data=tmp)\n",
    "s.set_xticklabels(s.get_xticklabels(),rotation=90)\n",
    "plt.show()   "
   ]
  },
  {
   "cell_type": "markdown",
   "metadata": {
    "_uuid": "c3669720b1196a7faaa84fb3f16c411b2ad2d4ea"
   },
   "source": [
    "### Matriks keputusan\n",
    "\n",
    "Tunjukkan matriks keputusan untuk hasil yang diperoleh."
   ]
  },
  {
   "cell_type": "code",
   "execution_count": 48,
   "metadata": {
    "_uuid": "80af65b8036d639dbc3511b0a548816a9cf5420e"
   },
   "outputs": [
    {
     "data": {
      "image/png": "[encoded data removed]",
      "text/plain": [
       "<Figure size 360x360 with 2 Axes>"
      ]
     },
     "metadata": {
      "needs_background": "light"
     },
     "output_type": "display_data"
    }
   ],
   "source": [
    "cm = pd.crosstab(val_df[target].values, preds, rownames=['Actual'], colnames=['Predicted'])\n",
    "fig, (ax1) = plt.subplots(ncols=1, figsize=(5,5))\n",
    "sns.heatmap(cm, \n",
    "            xticklabels=['Not Default', 'Default'],\n",
    "            yticklabels=['Not Default', 'Default'],\n",
    "            annot=True,ax=ax1,\n",
    "            linewidths=.2,linecolor=\"Darkblue\", cmap=\"Blues\")\n",
    "plt.title('Confusion Matrix', fontsize=14)\n",
    "plt.show()"
   ]
  },
  {
   "cell_type": "markdown",
   "metadata": {
    "_uuid": "d46cf16c55c152a71348677f1333920cb26ee3b5"
   },
   "source": [
    "Dapat juga dilakukan dengan menghitung persentasi area di bawah kurva sebagai berikut:"
   ]
  },
  {
   "cell_type": "code",
   "execution_count": 49,
   "metadata": {
    "_uuid": "4128e3d696fd66058cc2a52fae09ff3533803c5c"
   },
   "outputs": [
    {
     "data": {
      "text/plain": [
       "0.6588048536053512"
      ]
     },
     "execution_count": 49,
     "metadata": {},
     "output_type": "execute_result"
    }
   ],
   "source": [
    "roc_auc_score(val_df[target].values, preds)"
   ]
  },
  {
   "cell_type": "markdown",
   "metadata": {
    "_uuid": "ef96e2d7384464f6b49e337dd54f77edd4f1fbce"
   },
   "source": [
    "Skor ROC-AUC yang diperoleh dengan AdaBoostClassifier adalah 0,65."
   ]
  },
  {
   "cell_type": "markdown",
   "metadata": {
    "_uuid": "4429ce0917053f8abd0010ec377ffbe797ed10dd"
   },
   "source": [
    "## <a id=\"66\">CatBoostClassifier</a>\n",
    "\n",
    "\n",
    "CatBoostClassifier adalah peningkatan gradien untuk algoritma pohon keputusan (Decision Trees) dengan dukungan untuk menangani data kategorikal <a href='#8'>[6]</a>.\n",
    "\n",
    "### Siapkan modelnya\n",
    "\n",
    "Menentukan parameter untuk model dan menginisialisasi model."
   ]
  },
  {
   "cell_type": "code",
   "execution_count": 50,
   "metadata": {
    "_uuid": "16d86c3b7fb072a883916dfeb93b0a068aec3d54"
   },
   "outputs": [],
   "source": [
    "clf = CatBoostClassifier(iterations=500,\n",
    "                             learning_rate=0.02,\n",
    "                             depth=12,\n",
    "                             eval_metric='AUC',\n",
    "                             random_seed = RANDOM_STATE,\n",
    "                             bagging_temperature = 0.2,\n",
    "                             od_type='Iter',\n",
    "                             metric_period = VERBOSE_EVAL,\n",
    "                             od_wait=100)"
   ]
  },
  {
   "cell_type": "code",
   "execution_count": 51,
   "metadata": {
    "_uuid": "1835d86178b7ed6e993787ff62bc68586ca61e97"
   },
   "outputs": [
    {
     "name": "stdout",
     "output_type": "stream",
     "text": [
      "0:\ttotal: 642ms\tremaining: 5m 20s\n",
      "50:\ttotal: 15.4s\tremaining: 2m 15s\n",
      "100:\ttotal: 30.5s\tremaining: 2m\n",
      "150:\ttotal: 48.1s\tremaining: 1m 51s\n",
      "200:\ttotal: 1m 5s\tremaining: 1m 36s\n",
      "250:\ttotal: 1m 23s\tremaining: 1m 22s\n",
      "300:\ttotal: 1m 44s\tremaining: 1m 8s\n",
      "350:\ttotal: 2m 2s\tremaining: 51.9s\n",
      "400:\ttotal: 2m 21s\tremaining: 34.9s\n",
      "450:\ttotal: 2m 41s\tremaining: 17.6s\n",
      "499:\ttotal: 3m\tremaining: 0us\n"
     ]
    },
    {
     "data": {
      "text/plain": [
       "<catboost.core.CatBoostClassifier at 0x284126e0760>"
      ]
     },
     "execution_count": 51,
     "metadata": {},
     "output_type": "execute_result"
    }
   ],
   "source": [
    "clf.fit(train_df[predictors], train_df[target].values,verbose=True)"
   ]
  },
  {
   "cell_type": "markdown",
   "metadata": {
    "_uuid": "6b0e8eed70df450e29f9af722eb853a495963d08"
   },
   "source": [
    "### Prediksikan nilai target\n",
    "\n",
    "Prediksi nilai **target** untuk **val_df** data, menggunakan fungsi prediksi."
   ]
  },
  {
   "cell_type": "code",
   "execution_count": 52,
   "metadata": {
    "_uuid": "7c892d92b76c30e6532dcba257cf3f367d8cc18a"
   },
   "outputs": [],
   "source": [
    "preds = clf.predict(val_df[predictors])"
   ]
  },
  {
   "cell_type": "markdown",
   "metadata": {
    "_uuid": "57dd45742af8dc9d6386c3adbb847542c9fe129e"
   },
   "source": [
    "### Variabel Pengaruh\n",
    "\n",
    "Menentukan varibel yang paling mempengaruhi sebagai berikut:"
   ]
  },
  {
   "cell_type": "code",
   "execution_count": 53,
   "metadata": {
    "_uuid": "3672b63489536560a0f523611553c0e863325272"
   },
   "outputs": [
    {
     "data": {
      "image/png": "[encoded data removed]",
      "text/plain": [
       "<Figure size 504x288 with 1 Axes>"
      ]
     },
     "metadata": {
      "needs_background": "light"
     },
     "output_type": "display_data"
    }
   ],
   "source": [
    "tmp = pd.DataFrame({'Feature': predictors, 'Feature importance': clf.feature_importances_})\n",
    "tmp = tmp.sort_values(by='Feature importance',ascending=False)\n",
    "plt.figure(figsize = (7,4))\n",
    "plt.title('Features importance',fontsize=14)\n",
    "s = sns.barplot(x='Feature',y='Feature importance',data=tmp)\n",
    "s.set_xticklabels(s.get_xticklabels(),rotation=90)\n",
    "plt.show()   "
   ]
  },
  {
   "cell_type": "markdown",
   "metadata": {
    "_uuid": "ee9a2f4aa5b5125c1b4c3a5beb7138dec8f439f0"
   },
   "source": [
    "### Matriks keputusan\n",
    "\n",
    "Tunjukkan matriks keputusan untuk hasil yang diperoleh."
   ]
  },
  {
   "cell_type": "code",
   "execution_count": 54,
   "metadata": {
    "_uuid": "26d7e013a565e4d5a682e5ebc5c13c1bc2307392"
   },
   "outputs": [
    {
     "data": {
      "image/png": "[encoded data removed]",
      "text/plain": [
       "<Figure size 360x360 with 2 Axes>"
      ]
     },
     "metadata": {
      "needs_background": "light"
     },
     "output_type": "display_data"
    }
   ],
   "source": [
    "cm = pd.crosstab(val_df[target].values, preds, rownames=['Actual'], colnames=['Predicted'])\n",
    "fig, (ax1) = plt.subplots(ncols=1, figsize=(5,5))\n",
    "sns.heatmap(cm, \n",
    "            xticklabels=['Not Fraud', 'Fraud'],\n",
    "            yticklabels=['Not Fraud', 'Fraud'],\n",
    "            annot=True,ax=ax1,\n",
    "            linewidths=.2,linecolor=\"Darkblue\", cmap=\"Blues\")\n",
    "plt.title('Confusion Matrix', fontsize=14)\n",
    "plt.show()"
   ]
  },
  {
   "cell_type": "markdown",
   "metadata": {
    "_uuid": "22fb0a5ddf7f29118201f862268c23dcab307591"
   },
   "source": [
    "Dapat juga dilakukan dengan menghitung persentasi area di bawah kurva sebagai berikut:"
   ]
  },
  {
   "cell_type": "code",
   "execution_count": 55,
   "metadata": {
    "_uuid": "bc67728616b6f2144f62f941d0214204be96cae9"
   },
   "outputs": [
    {
     "data": {
      "text/plain": [
       "0.6622122018775761"
      ]
     },
     "execution_count": 55,
     "metadata": {},
     "output_type": "execute_result"
    }
   ],
   "source": [
    "roc_auc_score(val_df[target].values, preds)"
   ]
  },
  {
   "cell_type": "markdown",
   "metadata": {
    "_uuid": "430f9d3653b650c71b4293601a1f18b0a171d476"
   },
   "source": [
    "Skor ROC-AUC yang diperoleh dengan CatBoostClassifier adalah 0,66."
   ]
  },
  {
   "cell_type": "markdown",
   "metadata": {
    "_uuid": "5971335ef6cbaa165aed82b2ed6860037ad69439"
   },
   "source": [
    "## <a id=\"67\">XGBoost</a>\n",
    "\n",
    "XGBoost adalah algoritma peningkatan gradien <a href='#8'>[7]</a>."
   ]
  },
  {
   "cell_type": "markdown",
   "metadata": {
    "_uuid": "d7f9cbb6193e637924d7205734c34bc11abfa033"
   },
   "source": [
    "### Siapkan Model\n",
    "\n",
    "Menginisialisasi objek DMatrix untuk pelatihan dan validasi, mulai dari dataset. Dapat juga dengan mengatur beberapa parameter yang digunakan untuk penyetelan model."
   ]
  },
  {
   "cell_type": "code",
   "execution_count": 56,
   "metadata": {
    "_uuid": "da380529fbef2b22345e763117fd0ed4bfa00801"
   },
   "outputs": [],
   "source": [
    "# siapkan data training dan data valaidasinya\n",
    "dtrain = xgb.DMatrix(train_df[predictors], train_df[target].values)\n",
    "dvalid = xgb.DMatrix(val_df[predictors], val_df[target].values)\n",
    "\n",
    "# Apa yang harus dipantau (dalam hal ini, ** training** dan ** validasi **)\n",
    "watchlist = [(dtrain, 'train'), (dvalid, 'valid')]\n",
    "\n",
    "# Atur parameter xgboost nya\n",
    "params = {}\n",
    "params['objective'] = 'binary:logistic'\n",
    "params['eta'] = 0.039\n",
    "params['silent'] = True\n",
    "params['max_depth'] = 2\n",
    "params['subsample'] = 0.8\n",
    "params['colsample_bytree'] = 0.9\n",
    "params['eval_metric'] = 'auc'\n",
    "params['random_state'] = RANDOM_STATE"
   ]
  },
  {
   "cell_type": "markdown",
   "metadata": {
    "_uuid": "56ba43173f44b2f0ffc9f2f25e508c1d99e2b3cf"
   },
   "source": [
    "Melatih model"
   ]
  },
  {
   "cell_type": "code",
   "execution_count": 57,
   "metadata": {
    "_uuid": "b12dbaabb99e9a3e91f03cf2e614f0f3f297ce2f"
   },
   "outputs": [
    {
     "name": "stdout",
     "output_type": "stream",
     "text": [
      "[16:54:39] WARNING: C:/Users/Administrator/workspace/xgboost-win64_release_1.3.0/src/learner.cc:541: \n",
      "Parameters: { silent } might not be used.\n",
      "\n",
      "  This may not be accurate due to some parameters are only used in language bindings but\n",
      "  passed down to XGBoost core.  Or some parameters are not used but slip through this\n",
      "  verification. Please open an issue if you find above cases.\n",
      "\n",
      "\n",
      "[0]\ttrain-auc:0.69220\tvalid-auc:0.69740\n",
      "[50]\ttrain-auc:0.76847\tvalid-auc:0.76489\n",
      "[100]\ttrain-auc:0.77727\tvalid-auc:0.77289\n",
      "[150]\ttrain-auc:0.78281\tvalid-auc:0.77645\n",
      "[200]\ttrain-auc:0.78680\tvalid-auc:0.77880\n",
      "[250]\ttrain-auc:0.78994\tvalid-auc:0.77987\n",
      "[300]\ttrain-auc:0.79233\tvalid-auc:0.78022\n",
      "[350]\ttrain-auc:0.79439\tvalid-auc:0.78148\n",
      "[400]\ttrain-auc:0.79613\tvalid-auc:0.78195\n",
      "[450]\ttrain-auc:0.79779\tvalid-auc:0.78217\n",
      "[500]\ttrain-auc:0.79956\tvalid-auc:0.78271\n",
      "[550]\ttrain-auc:0.80119\tvalid-auc:0.78270\n",
      "[569]\ttrain-auc:0.80178\tvalid-auc:0.78272\n"
     ]
    }
   ],
   "source": [
    "model = xgb.train(params, \n",
    "                dtrain, \n",
    "                MAX_ROUNDS, \n",
    "                watchlist, \n",
    "                early_stopping_rounds=EARLY_STOP, \n",
    "                maximize=True, \n",
    "                verbose_eval=VERBOSE_EVAL)"
   ]
  },
  {
   "cell_type": "markdown",
   "metadata": {
    "_uuid": "dd80e9763ffd18ac4b6a5f02683ab6a509ec94e5"
   },
   "source": [
    "Skor validasi terbaik (ROC-AUC) adalah **0,78**, pada iterasi **391**. \n",
    "\n",
    "\n",
    "(Nb: Setiap kali anda melekukan simulasi, kemungkinan besar akan memberikan hasil yang berbeda-beda). Tetapi hasil yang diperoleh tidak akan berbeda jauh."
   ]
  },
  {
   "cell_type": "markdown",
   "metadata": {
    "_uuid": "62f92b33e315d16262503b2368e3107a66e5896e"
   },
   "source": [
    "### Plot Variabel Pengaruh"
   ]
  },
  {
   "cell_type": "code",
   "execution_count": 58,
   "metadata": {
    "_uuid": "757eea50f6b07bcb3b4e32f507d06a5232d3c781"
   },
   "outputs": [
    {
     "data": {
      "image/png": "[encoded data removed]",
      "text/plain": [
       "<Figure size 720x432 with 1 Axes>"
      ]
     },
     "metadata": {
      "needs_background": "light"
     },
     "output_type": "display_data"
    }
   ],
   "source": [
    "fig, (ax) = plt.subplots(ncols=1, figsize=(10,6))\n",
    "xgb.plot_importance(model, height=0.8, title=\"Features importance (XGBoost)\", ax=ax, color=\"green\") \n",
    "plt.show()"
   ]
  },
  {
   "cell_type": "markdown",
   "metadata": {
    "_uuid": "1b3c42b246e51c906890276886621fffc6ac2cce"
   },
   "source": [
    "## <a id=\"68\">LightGBM</a>\n",
    "\n",
    "\n",
    "Dilanjutkan dengan algoritma peningkatan gradien lain, LightGBM <a href='#8'>[7]</a> <a href='#8'>[8]</a>.\n",
    "\n",
    "\n",
    "### Tentukan Parameter Model\n",
    "\n",
    "Menentukan parameter pada model."
   ]
  },
  {
   "cell_type": "code",
   "execution_count": 59,
   "metadata": {
    "_uuid": "0fdfc823cd0f0bdd10a8dc5f8773a8c6be053509"
   },
   "outputs": [],
   "source": [
    "params = {\n",
    "          'boosting_type': 'gbdt',\n",
    "          'objective': 'binary',\n",
    "          'metric':'auc',\n",
    "          'learning_rate': 0.05,\n",
    "          'num_leaves': 7,                          # ini harus lebih kecil dari 2^(max_depth)\n",
    "          'max_depth': 4,                           \n",
    "          'min_child_samples': 100,                 # jumlah minimum data yang diperlukan (min_data_in_leaf)\n",
    "          'max_bin': 100,                           # jumlah tempat penyimpanan untuk nilai fitur\n",
    "          'subsample': 0.9,                         # rasio untuk subsampel yang di training\n",
    "          'subsample_freq': 1,                      # frekuensi subsampel, <=0 tidak memungkinkan\n",
    "          'colsample_bytree': 0.7,                  # rasio subsampel saat membuat setiap pohon keputusannya.\n",
    "          'min_child_weight': 0,                    # Jumlah minimum bobot yang dibutuhkan setiap cabang (leaf)\n",
    "          'min_split_gain': 0,                      # lambda_l1, lambda_l2 dan min_gain_to_split untuk regularisasi\n",
    "          'nthread': 8,\n",
    "          'verbose': 0,\n",
    "          'scale_pos_weight':50,                    # because training data is sightly unbalanced \n",
    "         }"
   ]
  },
  {
   "cell_type": "markdown",
   "metadata": {
    "_uuid": "af9fc8044eccaddbebb72a5438fc523d5d7fde38"
   },
   "source": [
    "### Siapkan modelnya\n",
    "\n",
    "Menententukan fitur kategorikal.\n"
   ]
  },
  {
   "cell_type": "code",
   "execution_count": 60,
   "metadata": {
    "_uuid": "9e2955df8edb747d276f0a8f696f96c1649a4c09"
   },
   "outputs": [],
   "source": [
    "categorical_features = ['SEX', 'EDUCATION', 'MARRIAGE','PAY_0', 'PAY_2', 'PAY_3', 'PAY_4', 'PAY_5', 'PAY_6']"
   ]
  },
  {
   "cell_type": "markdown",
   "metadata": {
    "_uuid": "19bad0e4c6dfebef8b1f04b5894056c5f9f2fc83"
   },
   "source": [
    "Mari kita siapkan model, membuat struktur **dataset** dari data training dan validasi.\n",
    "\n",
    "Menginisialisasi dataset dengan daftar fitur kategorikal (lgb memiliki perlakuan khusus untuk nilai-nilai kategorikal)."
   ]
  },
  {
   "cell_type": "code",
   "execution_count": 61,
   "metadata": {
    "_uuid": "e769a104e7cb4b6a23537604fc4c9817f31a48ae"
   },
   "outputs": [],
   "source": [
    "dtrain = lgb.Dataset(train_df[predictors].values, \n",
    "                     label=train_df[target].values,\n",
    "                     feature_name=predictors,\n",
    "                     categorical_feature=categorical_features)\n",
    "\n",
    "dvalid = lgb.Dataset(val_df[predictors].values,\n",
    "                     label=val_df[target].values,\n",
    "                     feature_name=predictors,\n",
    "                     categorical_feature=categorical_features)"
   ]
  },
  {
   "cell_type": "markdown",
   "metadata": {
    "_uuid": "22cc46ce8a55a6797bab700fa76886741f7855e8"
   },
   "source": [
    "### Bentuk Model\n",
    "\n",
    "Jalankan modelnya, menggunakan fungsi training."
   ]
  },
  {
   "cell_type": "code",
   "execution_count": 62,
   "metadata": {
    "_uuid": "e0d7d3ececedc6dbc9ae050b512ab1291fd393b1"
   },
   "outputs": [
    {
     "name": "stderr",
     "output_type": "stream",
     "text": [
      "C:\\Users\\User\\anaconda3\\lib\\site-packages\\lightgbm\\basic.py:1702: UserWarning: Using categorical_feature in Dataset.\n",
      "  _log_warning('Using categorical_feature in Dataset.')\n"
     ]
    },
    {
     "name": "stdout",
     "output_type": "stream",
     "text": [
      "[LightGBM] [Warning] Auto-choosing row-wise multi-threading, the overhead of testing was 0.001469 seconds.\n",
      "You can set `force_row_wise=true` to remove the overhead.\n",
      "And if memory is not enough, you can set `force_col_wise=true`.\n",
      "Training until validation scores don't improve for 50 rounds\n",
      "[50]\ttrain's auc: 0.778238\tvalid's auc: 0.771173\n"
     ]
    },
    {
     "name": "stderr",
     "output_type": "stream",
     "text": [
      "C:\\Users\\User\\anaconda3\\lib\\site-packages\\lightgbm\\basic.py:1433: UserWarning: Overriding the parameters from Reference Dataset.\n",
      "  _log_warning('Overriding the parameters from Reference Dataset.')\n",
      "C:\\Users\\User\\anaconda3\\lib\\site-packages\\lightgbm\\basic.py:1245: UserWarning: categorical_column in param dict is overridden.\n",
      "  _log_warning('{} in param dict is overridden.'.format(cat_alias))\n"
     ]
    },
    {
     "name": "stdout",
     "output_type": "stream",
     "text": [
      "[100]\ttrain's auc: 0.789346\tvalid's auc: 0.782605\n",
      "[150]\ttrain's auc: 0.794861\tvalid's auc: 0.784753\n",
      "Early stopping, best iteration is:\n",
      "[135]\ttrain's auc: 0.793452\tvalid's auc: 0.785154\n"
     ]
    },
    {
     "data": {
      "text/plain": [
       "17680"
      ]
     },
     "execution_count": 62,
     "metadata": {},
     "output_type": "execute_result"
    }
   ],
   "source": [
    "evals_results = {}\n",
    "\n",
    "model = lgb.train(params, \n",
    "                  dtrain, \n",
    "                  valid_sets=[dtrain, dvalid], \n",
    "                  valid_names=['train','valid'], \n",
    "                  evals_result=evals_results, \n",
    "                  num_boost_round=MAX_ROUNDS,\n",
    "                  early_stopping_rounds=EARLY_STOP,\n",
    "                  verbose_eval=VERBOSE_EVAL, \n",
    "                  feval=None)\n",
    "\n",
    "del dvalid\n",
    "gc.collect()"
   ]
  },
  {
   "cell_type": "markdown",
   "metadata": {
    "_uuid": "86204e500662d41b1cd66debf4845fb977dde3ac"
   },
   "source": [
    "Skor validasi terbaik diperoleh untuk putaran 254, dimana AUC ~ = 0,78. Berikut juga diperlihatkan plot variabel pengaruh.\n",
    "\n",
    "(Nb: Setiap kali anda melekukan simulasi, kemungkinan besar akan memberikan hasil yang berbeda-beda). Tetapi hasil yang diperoleh tidak akan berbeda jauh."
   ]
  },
  {
   "cell_type": "code",
   "execution_count": 63,
   "metadata": {
    "_uuid": "c40ecc6f9f78d3c04b74103650f1b5e2f208c207"
   },
   "outputs": [
    {
     "data": {
      "image/png": "[encoded data removed]",
      "text/plain": [
       "<Figure size 720x432 with 1 Axes>"
      ]
     },
     "metadata": {
      "needs_background": "light"
     },
     "output_type": "display_data"
    }
   ],
   "source": [
    "fig, (ax) = plt.subplots(ncols=1, figsize=(10,6))\n",
    "lgb.plot_importance(model, height=0.8, title=\"Features importance (LightGBM)\", ax=ax,color=\"red\") \n",
    "plt.show()"
   ]
  },
  {
   "cell_type": "markdown",
   "metadata": {
    "_uuid": "83d17af304a87feec1c75fe42c61b5920be35a55"
   },
   "source": [
    "### Pelatihan dan validasi menggunakan validasi silang (cross-validation)\n",
    "\n",
    "Berikut digunakan validasi, akan menggunakan cross-validation (KFolds) dengan 5 kali pengulangan. Data dibagi dalam 5 bagian dan, secara rotasi, sehingga pengujian menggunakan pengulagan 4 (n-1) dan memvalidasi hingga menggunakan pengulagan ke-5 (n)."
   ]
  },
  {
   "cell_type": "code",
   "execution_count": 64,
   "metadata": {
    "_uuid": "09340434080c5e006f14a63453b2830615d049b2"
   },
   "outputs": [
    {
     "name": "stdout",
     "output_type": "stream",
     "text": [
      "[LightGBM] [Warning] Auto-choosing col-wise multi-threading, the overhead of testing was 0.008625 seconds.\n",
      "You can set `force_col_wise=true` to remove the overhead.\n",
      "Training until validation scores don't improve for 50 rounds\n",
      "[50]\ttrain's auc: 0.779233\tvalid's auc: 0.773431\n",
      "[100]\ttrain's auc: 0.78851\tvalid's auc: 0.781476\n",
      "[150]\ttrain's auc: 0.794224\tvalid's auc: 0.784248\n",
      "[LightGBM] [Warning] No further splits with positive gain, best gain: -inf\n",
      "[200]\ttrain's auc: 0.79907\tvalid's auc: 0.78515\n",
      "[LightGBM] [Warning] No further splits with positive gain, best gain: -inf\n",
      "[LightGBM] [Warning] No further splits with positive gain, best gain: -inf\n",
      "[250]\ttrain's auc: 0.803179\tvalid's auc: 0.785179\n",
      "Early stopping, best iteration is:\n",
      "[235]\ttrain's auc: 0.80184\tvalid's auc: 0.78536\n",
      "[LightGBM] [Warning] Auto-choosing col-wise multi-threading, the overhead of testing was 0.007117 seconds.\n",
      "You can set `force_col_wise=true` to remove the overhead.\n",
      "Training until validation scores don't improve for 50 rounds\n",
      "[50]\ttrain's auc: 0.781129\tvalid's auc: 0.764302\n",
      "[100]\ttrain's auc: 0.789975\tvalid's auc: 0.772436\n",
      "[150]\ttrain's auc: 0.796011\tvalid's auc: 0.775725\n",
      "[200]\ttrain's auc: 0.801429\tvalid's auc: 0.77646\n",
      "[250]\ttrain's auc: 0.806222\tvalid's auc: 0.777403\n",
      "[LightGBM] [Warning] No further splits with positive gain, best gain: -inf\n",
      "[300]\ttrain's auc: 0.810405\tvalid's auc: 0.777709\n",
      "Early stopping, best iteration is:\n",
      "[285]\ttrain's auc: 0.809127\tvalid's auc: 0.777946\n",
      "[LightGBM] [Warning] Auto-choosing col-wise multi-threading, the overhead of testing was 0.004406 seconds.\n",
      "You can set `force_col_wise=true` to remove the overhead.\n",
      "Training until validation scores don't improve for 50 rounds\n",
      "[50]\ttrain's auc: 0.777731\tvalid's auc: 0.78199\n",
      "[100]\ttrain's auc: 0.787021\tvalid's auc: 0.788144\n",
      "[150]\ttrain's auc: 0.793398\tvalid's auc: 0.789845\n",
      "[200]\ttrain's auc: 0.798342\tvalid's auc: 0.789827\n",
      "[LightGBM] [Warning] No further splits with positive gain, best gain: -inf\n",
      "[250]\ttrain's auc: 0.802923\tvalid's auc: 0.789641\n",
      "Early stopping, best iteration is:\n",
      "[202]\ttrain's auc: 0.798522\tvalid's auc: 0.789932\n",
      "[LightGBM] [Warning] Auto-choosing col-wise multi-threading, the overhead of testing was 0.003596 seconds.\n",
      "You can set `force_col_wise=true` to remove the overhead.\n",
      "Training until validation scores don't improve for 50 rounds\n",
      "[50]\ttrain's auc: 0.778307\tvalid's auc: 0.772279\n",
      "[100]\ttrain's auc: 0.789215\tvalid's auc: 0.780146\n",
      "[150]\ttrain's auc: 0.795824\tvalid's auc: 0.782062\n",
      "[200]\ttrain's auc: 0.800611\tvalid's auc: 0.781847\n",
      "[LightGBM] [Warning] No further splits with positive gain, best gain: -inf\n",
      "Early stopping, best iteration is:\n",
      "[182]\ttrain's auc: 0.798955\tvalid's auc: 0.782449\n",
      "[LightGBM] [Warning] Auto-choosing col-wise multi-threading, the overhead of testing was 0.005345 seconds.\n",
      "You can set `force_col_wise=true` to remove the overhead.\n",
      "Training until validation scores don't improve for 50 rounds\n",
      "[50]\ttrain's auc: 0.778941\tvalid's auc: 0.773321\n",
      "[100]\ttrain's auc: 0.788555\tvalid's auc: 0.780365\n",
      "[150]\ttrain's auc: 0.795057\tvalid's auc: 0.78276\n",
      "[200]\ttrain's auc: 0.7996\tvalid's auc: 0.783983\n",
      "[250]\ttrain's auc: 0.804012\tvalid's auc: 0.784121\n",
      "[LightGBM] [Warning] No further splits with positive gain, best gain: -inf\n",
      "[LightGBM] [Warning] No further splits with positive gain, best gain: -inf\n",
      "[300]\ttrain's auc: 0.807877\tvalid's auc: 0.78461\n",
      "[LightGBM] [Warning] No further splits with positive gain, best gain: -inf\n",
      "[350]\ttrain's auc: 0.811747\tvalid's auc: 0.784532\n",
      "[LightGBM] [Warning] No further splits with positive gain, best gain: -inf\n",
      "[LightGBM] [Warning] No further splits with positive gain, best gain: -inf\n",
      "Early stopping, best iteration is:\n",
      "[321]\ttrain's auc: 0.809658\tvalid's auc: 0.78483\n"
     ]
    }
   ],
   "source": [
    "kf = KFold(n_splits = NUMBER_KFOLDS, random_state = RANDOM_STATE, shuffle = True)\n",
    "for train_index, test_index in kf.split(data_df):\n",
    "    train_X, valid_X = data_df.iloc[train_index], data_df.iloc[test_index]\n",
    "\n",
    "    dtrain = lgb.Dataset(train_X[predictors].values, label=train_X[target].values,\n",
    "                     feature_name=predictors)\n",
    "\n",
    "    dvalid = lgb.Dataset(valid_X[predictors].values, label=valid_X[target].values,\n",
    "                     feature_name=predictors)\n",
    "\n",
    "    evals_results = {}\n",
    "    model =  lgb.train(params, \n",
    "                  dtrain, \n",
    "                  valid_sets=[dtrain, dvalid], \n",
    "                  valid_names=['train','valid'], \n",
    "                  evals_result=evals_results, \n",
    "                  num_boost_round=MAX_ROUNDS,\n",
    "                  early_stopping_rounds=EARLY_STOP,\n",
    "                  verbose_eval=VERBOSE_EVAL, \n",
    "                  feval=None)"
   ]
  },
  {
   "cell_type": "markdown",
   "metadata": {
    "_uuid": "e6c5b0ffbfebfa5df49d11e7219c4d75956ca7a2"
   },
   "source": [
    "Validasi rata-rata **AUC** untuk 5 kali pengulangan yang diperoleh adalah **0,80**, dengan nilai antara **0,79** dan **0,80**."
   ]
  },
  {
   "cell_type": "markdown",
   "metadata": {
    "_uuid": "916f113e9975149edcf218d5037ff0a6f9faae4a"
   },
   "source": [
    "# <a id=\"7\">Kesimpulan dan Saran</a>"
   ]
  },
  {
   "cell_type": "markdown",
   "metadata": {
    "_uuid": "0dc04fd9116d35e7ac6720aafd88adb6b1a3bdaa"
   },
   "source": [
    "Setelah menyelidiki hasil, memeriksa data yang tidak seimbang, memvisualisasikan fitur dan memahami hubungan antara berbagai variabel.\n",
    "\n",
    "Kemudian menyelidiki lima model prediksi sebagai berikut:\n",
    "* Dimulai dengan **Random Forrest Classifier**, untuk itu kami memperoleh kode AUC **0.66**.\n",
    "* Untuk **Random Forrest Classifier** saya juga bereksperimen dengan **OneHotEncoder**, mengganti fitur-fitur kategorikal dengan nilai-nilai dummifikasi (memperkenalkan satu variabel dummy untuk setiap kategori). Skor AUC  0.66, jadi tidak membaik secara signifikan dalam kasus ini.\n",
    "* Selanjutnya digunakan model **AdaBoostClassifier**, dengan skor AUC yang lebih rendah (**0,65**).\n",
    "* Berikutnya digunakan model **CatBoostClassifier**, dengan skor AUC yang lebih rendah (**0,66**).\n",
    "* Kemudian dilakukan dengan eksperimen dengan model **XGBoost**, di mana skor AUC yang diperoleh adalah **0,77**.\n",
    "* Pada bagaian akhir dipresentasikan data ke model **LightGBM** diperoleh adalah **0,80**. \n",
    "\n",
    "Pada penelitian ini digunakan split validasi training dan validasi silang untuk mengevaluasi efektivitas model untuk memprediksi nilai target, yaitu mendeteksi apakah klien kartu kredit akan mengalami default bulan depan. Dengan kombinasi Metode Random Forrest Classfier dan LightGBM nilai yang diperoleh dari AUC untuk set validasi sekitar **0,80**. Sehingga disimpulkan Metode Random Forrest Classfier dan LightGBM adalah model yang terbaik untuk melakukan prediksi apakah klien kartu kredit akan mengalami default bulan depan.\n",
    "\n",
    "Saran: Jika Anda kesulitan dalam menemukan penelitan yang ingin anda lakukan, beleh menggunakan data yang ada pada penelitian sederhana ini. Tetapi anda harus mengunakan metode yang lainnya dan hasil prediksinya harus melebihi 80%.\n",
    "\n",
    "\n",
    "Selamat belajar. \n",
    "\n",
    "\n",
    "Cheers!\n",
    "\n",
    "Bakti Siregar"
   ]
  },
  {
   "cell_type": "markdown",
   "metadata": {
    "_uuid": "a28c2d7eccc79387f530538073ea5dab330d899e"
   },
   "source": [
    "# <a id=\"8\">Daftar Pustaka</a>\n",
    "\n",
    "[1] Default Credit Card Clients Dataset,  https://www.kaggle.com/uciml/default-of-credit-card-clients-dataset/  \n",
    "[2] Principal Component Analysis, Wikipedia Page, https://en.wikipedia.org/wiki/Principal_component_analysis  \n",
    "[3] Random Forrest Classifier, http://scikit-learn.org/stable/modules/generated/sklearn.ensemble.RandomForestClassifier.html  \n",
    "[4] ROC-AUC characteristic, https://en.wikipedia.org/wiki/Receiver_operating_characteristic#Area_under_the_curve   \n",
    "[5] Ada Boost Classifier, http://scikit-learn.org/stable/modules/generated/sklearn.ensemble.AdaBoostClassifier.html   \n",
    "[6] Cat Boost Classifier, https://tech.yandex.com/catboost/doc/dg/concepts/python-reference_catboostclassifier-docpage/  \n",
    "[7] XG Boost Python API Reference, http://xgboost.readthedocs.io/en/latest/python/python_api.html  \n",
    "[8] Light GBM Python implementation, https://github.com/Microsoft/LightGBM/tree/master/python-package  \n",
    "[9] Light GBM algorithm, https://www.microsoft.com/en-us/research/wp-content/uploads/2017/11/lightgbm.pdf   \n",
    "\n"
   ]
  }
 ],
 "metadata": {
  "kernelspec": {
   "display_name": "Python 3 (ipykernel)",
   "language": "python",
   "name": "python3"
  },
  "language_info": {
   "codemirror_mode": {
    "name": "ipython",
    "version": 3
   },
   "file_extension": ".py",
   "mimetype": "text/x-python",
   "name": "python",
   "nbconvert_exporter": "python",
   "pygments_lexer": "ipython3",
   "version": "3.8.8"
  }
 },
 "nbformat": 4,
 "nbformat_minor": 4
}
